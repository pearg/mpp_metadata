{
 "cells": [
  {
   "cell_type": "markdown",
   "metadata": {},
   "source": [
    "# Mediaflux training\n",
    "\n",
    "Manipulating assets and metadata in Mediaflux using the `mfclient` library."
   ]
  },
  {
   "cell_type": "code",
   "execution_count": 40,
   "metadata": {
    "collapsed": false
   },
   "outputs": [],
   "source": [
    "import mfclient\n",
    "import logging\n",
    "from Crypto.Cipher import AES\n",
    "import pandas as pd\n",
    "import random"
   ]
  },
  {
   "cell_type": "code",
   "execution_count": 2,
   "metadata": {
    "collapsed": true
   },
   "outputs": [],
   "source": [
    "logging.basicConfig(\n",
    "    filename=\"mf_2018-01-08.log\",\n",
    "    level=logging.DEBUG,\n",
    "    filemode=\"a\",\n",
    "    format='%(asctime)s %(levelname)s - %(message)s',\n",
    "    datefmt='%m-%d-%Y %H:%M:%S')"
   ]
  },
  {
   "cell_type": "markdown",
   "metadata": {},
   "source": [
    "-----\n",
    "\n",
    "## Connect to MF server"
   ]
  },
  {
   "cell_type": "code",
   "execution_count": 171,
   "metadata": {
    "collapsed": true
   },
   "outputs": [],
   "source": [
    "with open(\"keys/key\") as f:\n",
    "    key = f.read().strip()\n",
    "with open(\"keys/iv\") as f:\n",
    "    iv = f.read().strip()\n",
    "obj = AES.new(key, AES.MODE_CFB, iv)"
   ]
  },
  {
   "cell_type": "code",
   "execution_count": 172,
   "metadata": {
    "collapsed": true
   },
   "outputs": [],
   "source": [
    "with open(\"/Users/jess/.ssh/encrypted_pw.txt\") as f:\n",
    "    pw = f.read().strip()"
   ]
  },
  {
   "cell_type": "code",
   "execution_count": 173,
   "metadata": {
    "collapsed": true
   },
   "outputs": [],
   "source": [
    "MF_HOST = \"mediaflux.vicnode.org.au\"\n",
    "MF_PORT = 443\n",
    "MF_TRANSPORT = \"https\"\n",
    "MF_DOMAIN = \"aaf\"\n",
    "MF_USER = \"unimelb:jessicac\"\n",
    "MF_PASSWORD = obj.decrypt(pw)"
   ]
  },
  {
   "cell_type": "code",
   "execution_count": 174,
   "metadata": {
    "collapsed": false
   },
   "outputs": [],
   "source": [
    "con = mfclient.MFConnection(host=MF_HOST,\n",
    "                            port=MF_PORT,\n",
    "                            transport=MF_TRANSPORT,\n",
    "                            domain=MF_DOMAIN,\n",
    "                            user=MF_USER,\n",
    "                            password=MF_PASSWORD)"
   ]
  },
  {
   "cell_type": "code",
   "execution_count": 175,
   "metadata": {
    "collapsed": false
   },
   "outputs": [],
   "source": [
    "con.open()\n",
    "result = con.execute(\"server.version\")"
   ]
  },
  {
   "cell_type": "code",
   "execution_count": 176,
   "metadata": {
    "collapsed": false
   },
   "outputs": [
    {
     "data": {
      "text/plain": [
       "'<result><ant-version>Apache Ant 1.9.4</ant-version><binary>aserver</binary><build-time>02-Nov-2017 16:24:41 AEDT</build-time><built-by>Arcitecta. Pty. Ltd.</built-by><created-by>1.8.0_111-b14 (Oracle Corporation)</created-by><manifest-version>1.0</manifest-version><target-jvm>1.7</target-jvm><vendor>Arcitecta Pty. Ltd.</vendor><version>4.6.021</version></result>'"
      ]
     },
     "execution_count": 176,
     "metadata": {},
     "output_type": "execute_result"
    }
   ],
   "source": [
    "result.tostring()"
   ]
  },
  {
   "cell_type": "markdown",
   "metadata": {},
   "source": [
    "-----\n",
    "\n",
    "## Create file with `asset.get`"
   ]
  },
  {
   "cell_type": "code",
   "execution_count": null,
   "metadata": {
    "collapsed": true
   },
   "outputs": [],
   "source": [
    "# logging.info(\"Try creating an file with asset.get\")\n",
    "# args = mfclient.XmlStringWriter(\"args\")\n",
    "# args.add(\"namespace\", \"/projects/proj-demonstration-1128.4.15\")\n",
    "# args.add(\"name\", \"jc_test_2\")\n",
    "# args.push(\"meta\")\n",
    "# args.push(\"mf-note\")\n",
    "# args.add(\"note\", \"this is a test file created from the python api\")\n",
    "# args.pop()\n",
    "# args.pop()\n",
    "# result2 = con.execute(\"asset.create\", args.doc_text())\n",
    "# logging.info(result2)"
   ]
  },
  {
   "cell_type": "markdown",
   "metadata": {},
   "source": [
    "-----\n",
    "\n",
    "## Retrieve metadata with `asset.get`"
   ]
  },
  {
   "cell_type": "code",
   "execution_count": 11,
   "metadata": {
    "collapsed": false
   },
   "outputs": [],
   "source": [
    "logging.info(\"Retrieve metadata\")\n",
    "args = mfclient.XmlStringWriter(\"args\")\n",
    "args.add(\"id\", 35422787)\n",
    "result3 = con.execute(\"asset.get\", args.doc_text())\n",
    "# logging.info(result3)\n",
    "# logging.info(dir(result3))\n",
    "# logging.info(result3.value(\"asset/@id\"))\n",
    "# logging.info(result3.attributes)"
   ]
  },
  {
   "cell_type": "code",
   "execution_count": 12,
   "metadata": {
    "collapsed": false
   },
   "outputs": [
    {
     "data": {
      "text/plain": [
       "'35422787'"
      ]
     },
     "execution_count": 12,
     "metadata": {},
     "output_type": "execute_result"
    }
   ],
   "source": [
    "result3.value(\"asset/@id\")"
   ]
  },
  {
   "cell_type": "code",
   "execution_count": 15,
   "metadata": {
    "collapsed": false
   },
   "outputs": [
    {
     "data": {
      "text/plain": [
       "'<result><asset id=\"35422787\" version=\"1\" vid=\"58757764\"><type>content/unknown</type><namespace>/projects/proj-demonstration-1128.4.15</namespace><path>/projects/proj-demonstration-1128.4.15/jc_test_2</path><name>jc_test_2</name><creator id=\"1398\"><domain>aaf</domain><user>jchung@unimelb.edu.au</user><name>Jessica Chung</name><email>jchung@unimelb.edu.au</email></creator><ctime dst=\"true\" gmt-offset=\"10.0\" millisec=\"1513569904840\">18-Dec-2017 15:05:04</ctime><mtime dst=\"true\" gmt-offset=\"10.0\" millisec=\"1513569904840\">18-Dec-2017 15:05:04</mtime><stime>58757764</stime><versioned count=\"1\">true</versioned><access><access>true</access><rename>false</rename><modify>true</modify><destroy>true</destroy><access-content>true</access-content><modify-content>true</modify-content></access><meta stime=\"58757764\"><mf-revision-history id=\"1\"><user id=\"1398\"><authority protocol=\"saml\">internalsp</authority><domain>aaf</domain><name>jchung@unimelb.edu.au</name></user><type>create</type></mf-revision-history><mf-note id=\"2\"><note>this is a test file created from the python api</note></mf-note></meta></asset></result>'"
      ]
     },
     "execution_count": 15,
     "metadata": {},
     "output_type": "execute_result"
    }
   ],
   "source": [
    "result3.tostring()"
   ]
  },
  {
   "cell_type": "code",
   "execution_count": 49,
   "metadata": {
    "collapsed": false
   },
   "outputs": [
    {
     "name": "stdout",
     "output_type": "stream",
     "text": [
      "<note>this is a test file created from the python api</note>\n"
     ]
    }
   ],
   "source": [
    "print result3.element(\"asset/meta/mf-note/note\")"
   ]
  },
  {
   "cell_type": "markdown",
   "metadata": {},
   "source": [
    "-----\n",
    "\n",
    "## Query MF"
   ]
  },
  {
   "cell_type": "code",
   "execution_count": 19,
   "metadata": {
    "collapsed": true
   },
   "outputs": [],
   "source": [
    "args = mfclient.XmlStringWriter(\"args\")\n",
    "args.add(\"where\", \"namespace=/projects/proj-demonstration-1128.4.15\")\n",
    "# args.add(\"action\", \"get-id\")\n",
    "args.add(\"action\", \"get-path\")\n",
    "args.add(\"size\", \"infinity\")\n",
    "result4 = con.execute(\"asset.query\", args.doc_text())"
   ]
  },
  {
   "cell_type": "code",
   "execution_count": 22,
   "metadata": {
    "collapsed": false
   },
   "outputs": [
    {
     "name": "stdout",
     "output_type": "stream",
     "text": [
      "<result><path id=\"29779506\" version=\"1\">/projects/proj-demonstration-1128.4.15/3films_vca.csv</path><path id=\"29870021\" version=\"1\">/projects/proj-demonstration-1128.4.15/mexplorer-1.3.0.jar</path><path id=\"29870022\" version=\"1\">/projects/proj-demonstration-1128.4.15/aterm.jar</path><path id=\"30952443\" version=\"1\">/projects/proj-demonstration-1128.4.15/ReadMe_ASIFAEast.rtf</path><path id=\"31327915\" version=\"1\">/projects/proj-demonstration-1128.4.15/data.csvy</path><path id=\"32417517\" version=\"1\">/projects/proj-demonstration-1128.4.15/right_up.png</path><path id=\"32417518\" version=\"1\">/projects/proj-demonstration-1128.4.15/1484286195_tick-circle.png</path><path id=\"32427338\" version=\"1\">/projects/proj-demonstration-1128.4.15/Apium_prostratum_ME.wpvh.jpg</path><path id=\"32522089\" version=\"4\">/projects/proj-demonstration-1128.4.15/junk1.tcl</path><path id=\"35422605\" version=\"1\">/projects/proj-demonstration-1128.4.15/Test_Note_1</path><path id=\"35422609\" version=\"1\">/projects/proj-demonstration-1128.4.15/jc_test_1</path><path id=\"35422616\" version=\"1\">/projects/proj-demonstration-1128.4.15/test_asset_tom</path><path id=\"35422787\" version=\"1\">/projects/proj-demonstration-1128.4.15/jc_test_2</path><path id=\"35422794\" version=\"1\">/projects/proj-demonstration-1128.4.15/test_asset_tom2</path><path id=\"35422795\" version=\"1\">/projects/proj-demonstration-1128.4.15/Test_Note_2</path><path id=\"35422946\" version=\"1\">/projects/proj-demonstration-1128.4.15/Test_Note_1513575083</path></result>\n"
     ]
    }
   ],
   "source": [
    "print result4"
   ]
  },
  {
   "cell_type": "code",
   "execution_count": 23,
   "metadata": {
    "collapsed": true
   },
   "outputs": [],
   "source": [
    "paths = result4.values(\"path\")\n",
    "ids = result4.values(\"path/@id\")"
   ]
  },
  {
   "cell_type": "code",
   "execution_count": 28,
   "metadata": {
    "collapsed": false
   },
   "outputs": [],
   "source": [
    "# for p in paths:\n",
    "#     print(p)\n",
    "\n",
    "# for id in ids:\n",
    "#     print(id)"
   ]
  },
  {
   "cell_type": "code",
   "execution_count": 29,
   "metadata": {
    "collapsed": false
   },
   "outputs": [
    {
     "name": "stdout",
     "output_type": "stream",
     "text": [
      "<path id=\"29779506\" version=\"1\">/projects/proj-demonstration-1128.4.15/3films_vca.csv</path>\n",
      "\t29779506 - /projects/proj-demonstration-1128.4.15/3films_vca.csv\n",
      "<path id=\"29870021\" version=\"1\">/projects/proj-demonstration-1128.4.15/mexplorer-1.3.0.jar</path>\n",
      "\t29870021 - /projects/proj-demonstration-1128.4.15/mexplorer-1.3.0.jar\n",
      "<path id=\"29870022\" version=\"1\">/projects/proj-demonstration-1128.4.15/aterm.jar</path>\n",
      "\t29870022 - /projects/proj-demonstration-1128.4.15/aterm.jar\n",
      "<path id=\"30952443\" version=\"1\">/projects/proj-demonstration-1128.4.15/ReadMe_ASIFAEast.rtf</path>\n",
      "\t30952443 - /projects/proj-demonstration-1128.4.15/ReadMe_ASIFAEast.rtf\n",
      "<path id=\"31327915\" version=\"1\">/projects/proj-demonstration-1128.4.15/data.csvy</path>\n",
      "\t31327915 - /projects/proj-demonstration-1128.4.15/data.csvy\n"
     ]
    }
   ],
   "source": [
    "# get all elements with element name 'path'\n",
    "path_elements = result4.elements(\"path\")\n",
    "\n",
    "for pe in path_elements[:5]:\n",
    "    print(pe)\n",
    "    path = pe.value()     # get value inside 'path' element\n",
    "    id = pe.value(\"@id\")  # get attribute value of 'id' attribute in 'path' element\n",
    "    print(\"\\t\" + id + \" - \" + path)"
   ]
  },
  {
   "cell_type": "markdown",
   "metadata": {},
   "source": [
    "-----\n",
    "\n",
    "## Setting metadata"
   ]
  },
  {
   "cell_type": "markdown",
   "metadata": {},
   "source": [
    "```\n",
    "# asset.set :id 123 :meta < mf-note < note \"Test\" > >\n",
    "# asset.set :id 123 :meta -action [add|merge|remove|replace] <document>\n",
    "\n",
    "```"
   ]
  },
  {
   "cell_type": "code",
   "execution_count": 76,
   "metadata": {
    "collapsed": true
   },
   "outputs": [],
   "source": [
    "# First get all assets in specified directory and has metadata attached\n",
    "\n",
    "args = mfclient.XmlStringWriter(\"args\")\n",
    "\n",
    "# Limit files to /projects/proj-marsupial_genomics-1128.4.19/Test_2017-08-29\n",
    "args.add(\"where\", \"namespace=/projects/proj-marsupial_genomics-1128.4.19/Test_2017-08-29 \\\n",
    "          and proj-marsupial_genomics-1128.4.19:test has value\")\n",
    "\n",
    "# Get path of files matching query\n",
    "args.add(\"action\", \"get-path\")\n",
    "\n",
    "# Get all assets (instead of the first 100)\n",
    "args.add(\"size\", \"infinity\")\n",
    "\n",
    "# Run the query\n",
    "result = con.execute(\"asset.query\", args.doc_text())"
   ]
  },
  {
   "cell_type": "code",
   "execution_count": 77,
   "metadata": {
    "collapsed": false
   },
   "outputs": [
    {
     "name": "stdout",
     "output_type": "stream",
     "text": [
      "<result><path id=\"35009187\" version=\"8\">/projects/proj-marsupial_genomics-1128.4.19/Test_2017-08-29/test</path><path id=\"35009188\" version=\"8\">/projects/proj-marsupial_genomics-1128.4.19/Test_2017-08-29/mediaflux.sh</path></result>\n"
     ]
    }
   ],
   "source": [
    "print result"
   ]
  },
  {
   "cell_type": "code",
   "execution_count": 82,
   "metadata": {
    "collapsed": false
   },
   "outputs": [
    {
     "name": "stdout",
     "output_type": "stream",
     "text": [
      "<path id=\"35009187\" version=\"8\">/projects/proj-marsupial_genomics-1128.4.19/Test_2017-08-29/test</path>\n",
      "id: 2\tloc: 954\n",
      "id: 8\tloc: 451\n",
      "=-=-=-=-=-=-=-=-=-=-=-=-=-=-=\n",
      "<path id=\"35009188\" version=\"8\">/projects/proj-marsupial_genomics-1128.4.19/Test_2017-08-29/mediaflux.sh</path>\n",
      "id: 1\tloc: 151\n",
      "id: 6\tloc: 689\n",
      "=-=-=-=-=-=-=-=-=-=-=-=-=-=-=\n"
     ]
    }
   ],
   "source": [
    "# Get existing value of metadata (id and location) and change values\n",
    "for path_element in result.elements(\"path\"):\n",
    "    print path_element\n",
    "    asset_id = path_element.attribute(\"id\")\n",
    "    \n",
    "    # Get existing values\n",
    "    args = mfclient.XmlStringWriter(\"args\")\n",
    "    args.add(\"id\", asset_id)\n",
    "    asset_result_1 = con.execute(\"asset.get\", args.doc_text())\n",
    "    existing_id = asset_result_1.value(\"asset/meta/proj-marsupial_genomics-1128.4.19:test/id\")\n",
    "    existing_location = asset_result_1.value(\"asset/meta/proj-marsupial_genomics-1128.4.19:test/location\")\n",
    "    print \"id: {}\\tloc: {}\".format(existing_id, existing_location)\n",
    "    \n",
    "    # Set new values\n",
    "    args = mfclient.XmlStringWriter(\"args\")\n",
    "    args.add(\"id\", asset_id)\n",
    "    args.push(\"meta\")\n",
    "    #     args.push(\"meta\", attributes={\"action\": \"add\"})\n",
    "    args.push(\"proj-marsupial_genomics-1128.4.19:test\")\n",
    "    args.add(\"id\", str(random.randint(1,10)))\n",
    "    args.add(\"location\", str(random.randint(1,1000)))\n",
    "    args.pop()\n",
    "    args.pop()\n",
    "    asset_result_2 = con.execute(\"asset.set\", args.doc_text())\n",
    "    \n",
    "    # Get new values\n",
    "    args = mfclient.XmlStringWriter(\"args\")\n",
    "    args.add(\"id\", asset_id)\n",
    "    asset_result_3 = con.execute(\"asset.get\", args.doc_text())\n",
    "    new_id = asset_result_3.value(\"asset/meta/proj-marsupial_genomics-1128.4.19:test/id\")\n",
    "    new_location = asset_result_3.value(\"asset/meta/proj-marsupial_genomics-1128.4.19:test/location\")\n",
    "    print \"id: {}\\tloc: {}\".format(new_id, new_location)\n",
    "    \n",
    "    print \"=-=-=-=-=-=-=-=-=-=-=-=-=-=-=\""
   ]
  },
  {
   "cell_type": "code",
   "execution_count": null,
   "metadata": {
    "collapsed": true
   },
   "outputs": [],
   "source": []
  },
  {
   "cell_type": "code",
   "execution_count": null,
   "metadata": {
    "collapsed": true
   },
   "outputs": [],
   "source": [
    "# result5 = con.execute(\"asset.set\", args.doc_text())"
   ]
  },
  {
   "cell_type": "markdown",
   "metadata": {},
   "source": [
    "-----\n",
    "\n",
    "## Metadata definitions"
   ]
  },
  {
   "cell_type": "markdown",
   "metadata": {},
   "source": [
    "```\n",
    "# aterm\n",
    "# list definitions in a project\n",
    "asset.doc.type.list :namespace proj-marsupial_genomics-1128.4.19\n",
    "\n",
    "# view definition details\n",
    "asset.doc.type.describe :type proj-marsupial_genomics-1128.4.19:test\n",
    "\n",
    "```"
   ]
  },
  {
   "cell_type": "code",
   "execution_count": 181,
   "metadata": {
    "collapsed": true
   },
   "outputs": [],
   "source": [
    "# asset.doc.type.describe :type proj-marsupial_genomics-1128.4.19:test\n",
    "args = mfclient.XmlStringWriter(\"args\")\n",
    "args.add(\"type\", \"proj-marsupial_genomics-1128.4.19:test\")\n",
    "\n",
    "# Run the query\n",
    "result = con.execute(\"asset.doc.type.describe\", args.doc_text())"
   ]
  },
  {
   "cell_type": "code",
   "execution_count": 182,
   "metadata": {
    "collapsed": false,
    "scrolled": true
   },
   "outputs": [
    {
     "name": "stdout",
     "output_type": "stream",
     "text": [
      "<result><type for=\"asset\" id=\"241\" name=\"proj-marsupial_genomics-1128.4.19:test\" version=\"5\"><label>proj-marsupial_genomics-1128.4.19:test</label><description>test description</description><generated-by>user</generated-by><allow-incomplete>maybe</allow-incomplete><access><administer>true</administer><create>true</create><modify>true</modify><publish>true</publish></access><creator id=\"1398\"><domain>aaf</domain><user>jchung@unimelb.edu.au</user><name>Jessica Chung</name><email>jchung@unimelb.edu.au</email></creator><ctime dst=\"true\" gmt-offset=\"10.0\" time=\"1515392815328\" tz=\"Australia/Melbourne\">08-Jan-2018 17:26:55</ctime><definition><element label=\"ID\" max-occurs=\"1\" name=\"id\" type=\"string\"><description>description for id</description><instructions>instructions for id</instructions></element><element max-occurs=\"100\" min-occurs=\"0\" name=\"location\" type=\"string\" /><element max-occurs=\"1\" name=\"enum\" type=\"enumeration\"><restriction base=\"enumeration\"><value>val1</value><value>val2</value><value>val3</value></restriction><value as=\"default\">val1</value></element></definition></type></result>\n"
     ]
    }
   ],
   "source": [
    "print result"
   ]
  },
  {
   "cell_type": "code",
   "execution_count": 108,
   "metadata": {
    "collapsed": false,
    "scrolled": true
   },
   "outputs": [
    {
     "name": "stdout",
     "output_type": "stream",
     "text": [
      "<args><type>proj-marsupial_genomics-1128.4.19:py_test</type><label>proj-marsupial_genomics-1128.4.19:py_test</label><description>test create metadata doc</description><instructions>instructions for metadata doc</instructions><definition><element type=\"string\" name=\"id\" max-occurs=\"1\"><description>description for id</description><instructions>instructions for id</instructions></element><element type=\"string\" name=\"location\" max-occurs=\"1\"><description>description for location</description><instructions>instructions for location</instructions></element></definition></args>\n"
     ]
    }
   ],
   "source": [
    "args = mfclient.XmlStringWriter(\"args\")\n",
    "\n",
    "args.add(\"type\", \"proj-marsupial_genomics-1128.4.19:py_test\")\n",
    "args.add(\"label\", \"proj-marsupial_genomics-1128.4.19:py_test\")\n",
    "args.add(\"description\", \"test create metadata doc\")\n",
    "args.add(\"instructions\", \"instructions for metadata doc\")\n",
    "\n",
    "# Metadata definitions\n",
    "args.push(\"definition\")\n",
    "args.push(\"element\", attributes={\"name\": \"id\", \"max-occurs\": 1, \"type\": \"string\"})\n",
    "args.add(\"description\", \"description for id\")\n",
    "args.add(\"instructions\", \"instructions for id\")\n",
    "args.pop()\n",
    "args.push(\"element\", attributes={\"name\": \"location\", \"max-occurs\": 1, \"type\": \"string\"})\n",
    "args.add(\"description\", \"description for location\")\n",
    "args.add(\"instructions\", \"instructions for location\")\n",
    "args.pop()\n",
    "args.pop()\n",
    "\n",
    "print(args.doc_text())"
   ]
  },
  {
   "cell_type": "code",
   "execution_count": 109,
   "metadata": {
    "collapsed": false
   },
   "outputs": [],
   "source": [
    "result = con.execute(\"asset.doc.type.create\", args.doc_text())"
   ]
  },
  {
   "cell_type": "code",
   "execution_count": 112,
   "metadata": {
    "collapsed": false
   },
   "outputs": [
    {
     "name": "stdout",
     "output_type": "stream",
     "text": [
      "<result><proj-marsupial_genomics-1128.4.19:py_test xmlns:proj-marsupial_genomics-1128.4.19=\"proj-marsupial_genomics-1128.4.19\" version=\"1\" /></result>\n"
     ]
    }
   ],
   "source": [
    "print result"
   ]
  },
  {
   "cell_type": "markdown",
   "metadata": {},
   "source": [
    "-----\n",
    "\n",
    "## MPP metadata test"
   ]
  },
  {
   "cell_type": "code",
   "execution_count": 117,
   "metadata": {
    "collapsed": false
   },
   "outputs": [],
   "source": [
    "metadata_elements = pd.read_excel(\"../metadata_elements.xlsx\")"
   ]
  },
  {
   "cell_type": "code",
   "execution_count": 118,
   "metadata": {
    "collapsed": false
   },
   "outputs": [
    {
     "data": {
      "text/html": [
       "<div>\n",
       "<style scoped>\n",
       "    .dataframe tbody tr th:only-of-type {\n",
       "        vertical-align: middle;\n",
       "    }\n",
       "\n",
       "    .dataframe tbody tr th {\n",
       "        vertical-align: top;\n",
       "    }\n",
       "\n",
       "    .dataframe thead th {\n",
       "        text-align: right;\n",
       "    }\n",
       "</style>\n",
       "<table border=\"1\" class=\"dataframe\">\n",
       "  <thead>\n",
       "    <tr style=\"text-align: right;\">\n",
       "      <th></th>\n",
       "      <th>element</th>\n",
       "      <th>definition</th>\n",
       "      <th>instructions</th>\n",
       "      <th>requirement</th>\n",
       "      <th>type</th>\n",
       "      <th>default value</th>\n",
       "      <th>notes</th>\n",
       "    </tr>\n",
       "  </thead>\n",
       "  <tbody>\n",
       "    <tr>\n",
       "      <th>0</th>\n",
       "      <td>id</td>\n",
       "      <td>ID number on animal's ear tag</td>\n",
       "      <td>Usually a four-digit integer. Should not have ...</td>\n",
       "      <td>Mandatory</td>\n",
       "      <td>string</td>\n",
       "      <td>NaN</td>\n",
       "      <td>Each sample should only have one 'general' met...</td>\n",
       "    </tr>\n",
       "    <tr>\n",
       "      <th>1</th>\n",
       "      <td>sex</td>\n",
       "      <td>Sex of the animal</td>\n",
       "      <td>Allowed values: male, female, hermaphrodite, u...</td>\n",
       "      <td>Mandatory</td>\n",
       "      <td>enumeration</td>\n",
       "      <td>NaN</td>\n",
       "      <td>NaN</td>\n",
       "    </tr>\n",
       "    <tr>\n",
       "      <th>2</th>\n",
       "      <td>country</td>\n",
       "      <td>The name of the country or major administrativ...</td>\n",
       "      <td>For this study, only relevant value is Austral...</td>\n",
       "      <td>Mandatory</td>\n",
       "      <td>string</td>\n",
       "      <td>Australia</td>\n",
       "      <td>NaN</td>\n",
       "    </tr>\n",
       "    <tr>\n",
       "      <th>3</th>\n",
       "      <td>state_or_region</td>\n",
       "      <td>The name of the next smaller administrative re...</td>\n",
       "      <td>State name written out in full (no abbreviatio...</td>\n",
       "      <td>Mandatory</td>\n",
       "      <td>string</td>\n",
       "      <td>Victoria</td>\n",
       "      <td>NaN</td>\n",
       "    </tr>\n",
       "    <tr>\n",
       "      <th>4</th>\n",
       "      <td>taxon_id</td>\n",
       "      <td>ID number for this taxon from the NCBI Taxonom...</td>\n",
       "      <td>ID number results from https://www.ncbi.nlm.ni...</td>\n",
       "      <td>Mandatory</td>\n",
       "      <td>integer</td>\n",
       "      <td>38600</td>\n",
       "      <td>NaN</td>\n",
       "    </tr>\n",
       "  </tbody>\n",
       "</table>\n",
       "</div>"
      ],
      "text/plain": [
       "           element                                         definition  \\\n",
       "0               id                      ID number on animal's ear tag   \n",
       "1              sex                                  Sex of the animal   \n",
       "2          country  The name of the country or major administrativ...   \n",
       "3  state_or_region  The name of the next smaller administrative re...   \n",
       "4         taxon_id  ID number for this taxon from the NCBI Taxonom...   \n",
       "\n",
       "                                        instructions requirement         type  \\\n",
       "0  Usually a four-digit integer. Should not have ...   Mandatory       string   \n",
       "1  Allowed values: male, female, hermaphrodite, u...   Mandatory  enumeration   \n",
       "2  For this study, only relevant value is Austral...   Mandatory       string   \n",
       "3  State name written out in full (no abbreviatio...   Mandatory       string   \n",
       "4  ID number results from https://www.ncbi.nlm.ni...   Mandatory      integer   \n",
       "\n",
       "  default value                                              notes  \n",
       "0           NaN  Each sample should only have one 'general' met...  \n",
       "1           NaN                                                NaN  \n",
       "2     Australia                                                NaN  \n",
       "3      Victoria                                                NaN  \n",
       "4         38600                                                NaN  "
      ]
     },
     "execution_count": 118,
     "metadata": {},
     "output_type": "execute_result"
    }
   ],
   "source": [
    "metadata_elements.head()"
   ]
  },
  {
   "cell_type": "code",
   "execution_count": 119,
   "metadata": {
    "collapsed": true
   },
   "outputs": [],
   "source": [
    "capture_metadata_elements = pd.read_excel(\"../metadata_elements.xlsx\", sheet_name=2)"
   ]
  },
  {
   "cell_type": "code",
   "execution_count": 120,
   "metadata": {
    "collapsed": false
   },
   "outputs": [
    {
     "data": {
      "text/html": [
       "<div>\n",
       "<style scoped>\n",
       "    .dataframe tbody tr th:only-of-type {\n",
       "        vertical-align: middle;\n",
       "    }\n",
       "\n",
       "    .dataframe tbody tr th {\n",
       "        vertical-align: top;\n",
       "    }\n",
       "\n",
       "    .dataframe thead th {\n",
       "        text-align: right;\n",
       "    }\n",
       "</style>\n",
       "<table border=\"1\" class=\"dataframe\">\n",
       "  <thead>\n",
       "    <tr style=\"text-align: right;\">\n",
       "      <th></th>\n",
       "      <th>element</th>\n",
       "      <th>definition</th>\n",
       "      <th>instructions</th>\n",
       "      <th>requirement</th>\n",
       "      <th>type</th>\n",
       "      <th>default value</th>\n",
       "      <th>notes</th>\n",
       "    </tr>\n",
       "  </thead>\n",
       "  <tbody>\n",
       "    <tr>\n",
       "      <th>0</th>\n",
       "      <td>id</td>\n",
       "      <td>ID number. The animals with these metadata fie...</td>\n",
       "      <td>Usually a four-digit integer. Should not have ...</td>\n",
       "      <td>Mandatory</td>\n",
       "      <td>string</td>\n",
       "      <td>NaN</td>\n",
       "      <td>NaN</td>\n",
       "    </tr>\n",
       "    <tr>\n",
       "      <th>1</th>\n",
       "      <td>year</td>\n",
       "      <td>Year of recording</td>\n",
       "      <td>Year of recording details of the animal</td>\n",
       "      <td>Mandatory</td>\n",
       "      <td>integer</td>\n",
       "      <td>NaN</td>\n",
       "      <td>NaN</td>\n",
       "    </tr>\n",
       "    <tr>\n",
       "      <th>2</th>\n",
       "      <td>source</td>\n",
       "      <td>Text describing the source population</td>\n",
       "      <td>E.g. Healesville Sanctuary zoo release, Mount ...</td>\n",
       "      <td>Mandatory</td>\n",
       "      <td>string</td>\n",
       "      <td>NaN</td>\n",
       "      <td>NaN</td>\n",
       "    </tr>\n",
       "    <tr>\n",
       "      <th>3</th>\n",
       "      <td>sex</td>\n",
       "      <td>Sex of the animal</td>\n",
       "      <td>Allowed values: male, female, hermaphrodite, u...</td>\n",
       "      <td>Mandatory</td>\n",
       "      <td>enumeration</td>\n",
       "      <td>NaN</td>\n",
       "      <td>NaN</td>\n",
       "    </tr>\n",
       "    <tr>\n",
       "      <th>4</th>\n",
       "      <td>weight</td>\n",
       "      <td>Weight of the animal in grams</td>\n",
       "      <td>Numeric. Allowed missing values are unknown, n...</td>\n",
       "      <td>Mandatory</td>\n",
       "      <td>double</td>\n",
       "      <td>NaN</td>\n",
       "      <td>Note: columns from weight to other_notes are i...</td>\n",
       "    </tr>\n",
       "  </tbody>\n",
       "</table>\n",
       "</div>"
      ],
      "text/plain": [
       "  element                                         definition  \\\n",
       "0      id  ID number. The animals with these metadata fie...   \n",
       "1    year                                  Year of recording   \n",
       "2  source              Text describing the source population   \n",
       "3     sex                                  Sex of the animal   \n",
       "4  weight                      Weight of the animal in grams   \n",
       "\n",
       "                                        instructions requirement         type  \\\n",
       "0  Usually a four-digit integer. Should not have ...   Mandatory       string   \n",
       "1            Year of recording details of the animal   Mandatory      integer   \n",
       "2  E.g. Healesville Sanctuary zoo release, Mount ...   Mandatory       string   \n",
       "3  Allowed values: male, female, hermaphrodite, u...   Mandatory  enumeration   \n",
       "4  Numeric. Allowed missing values are unknown, n...   Mandatory       double   \n",
       "\n",
       "   default value                                              notes  \n",
       "0            NaN                                                NaN  \n",
       "1            NaN                                                NaN  \n",
       "2            NaN                                                NaN  \n",
       "3            NaN                                                NaN  \n",
       "4            NaN  Note: columns from weight to other_notes are i...  "
      ]
     },
     "execution_count": 120,
     "metadata": {},
     "output_type": "execute_result"
    }
   ],
   "source": [
    "capture_metadata_elements.head()"
   ]
  },
  {
   "cell_type": "code",
   "execution_count": 125,
   "metadata": {
    "collapsed": false
   },
   "outputs": [
    {
     "data": {
      "text/plain": [
       "0                  id\n",
       "1                 sex\n",
       "2             country\n",
       "3     state_or_region\n",
       "4            taxon_id\n",
       "5              phylum\n",
       "6               class\n",
       "7               order\n",
       "8              family\n",
       "9               genus\n",
       "10            species\n",
       "11         subspecies\n",
       "12        common_name\n",
       "13     alternative_id\n",
       "Name: element, dtype: object"
      ]
     },
     "execution_count": 125,
     "metadata": {},
     "output_type": "execute_result"
    }
   ],
   "source": [
    "metadata_elements[\"element\"]"
   ]
  },
  {
   "cell_type": "code",
   "execution_count": 142,
   "metadata": {
    "collapsed": false
   },
   "outputs": [],
   "source": [
    "metadata_elements_dict = metadata_elements.transpose().to_dict()"
   ]
  },
  {
   "cell_type": "code",
   "execution_count": 184,
   "metadata": {
    "collapsed": false
   },
   "outputs": [],
   "source": [
    "# <restriction base=\"enumeration\"><value>val1</value><value>val2</value><value>val3</value></restriction><value as=\"default\">val1</value></element>\n",
    "enumeration_values = {\n",
    "    \"sex\": [],\n",
    "}"
   ]
  },
  {
   "cell_type": "code",
   "execution_count": 193,
   "metadata": {
    "collapsed": false
   },
   "outputs": [],
   "source": [
    "# temp change enumeration to string\n",
    "metadata_elements_dict[1][\"type\"] = \"string\""
   ]
  },
  {
   "cell_type": "code",
   "execution_count": 194,
   "metadata": {
    "collapsed": true
   },
   "outputs": [],
   "source": [
    "def add_elements(args, metadata_dict):\n",
    "    args.push(\"definition\")\n",
    "    for index in metadata_dict:\n",
    "        print index\n",
    "        attr = {\"name\": metadata_dict[index][\"element\"],\n",
    "                \"max-occurs\": 1,\n",
    "                 \"type\": metadata_dict[index][\"type\"]}\n",
    "        args.push(\"element\", attributes=attr)\n",
    "        args.add(\"description\", metadata_dict[index][\"definition\"])\n",
    "        args.add(\"instructions\", metadata_dict[index][\"instructions\"])\n",
    "        args.pop()\n",
    "    args.pop()\n",
    "    return args"
   ]
  },
  {
   "cell_type": "code",
   "execution_count": 195,
   "metadata": {
    "collapsed": false
   },
   "outputs": [
    {
     "name": "stdout",
     "output_type": "stream",
     "text": [
      "0\n",
      "1\n",
      "2\n",
      "3\n",
      "4\n",
      "5\n",
      "6\n",
      "7\n",
      "8\n",
      "9\n",
      "10\n",
      "11\n",
      "12\n",
      "13\n"
     ]
    }
   ],
   "source": [
    "args = mfclient.XmlStringWriter(\"args\")\n",
    "\n",
    "args.add(\"type\", \"proj-marsupial_genomics-1128.4.19:mpp_general_test\")\n",
    "args.add(\"label\", \"proj-marsupial_genomics-1128.4.19:mpp_general_test\")\n",
    "args.add(\"description\", \"test create metadata doc\")\n",
    "args.add(\"instructions\", \"instructions for metadata doc\")\n",
    "\n",
    "# Metadata definitions\n",
    "args = add_elements(args=args, metadata_dict=metadata_elements_dict)"
   ]
  },
  {
   "cell_type": "code",
   "execution_count": null,
   "metadata": {
    "collapsed": false
   },
   "outputs": [],
   "source": [
    "# args.doc_text()"
   ]
  },
  {
   "cell_type": "code",
   "execution_count": 197,
   "metadata": {
    "collapsed": false
   },
   "outputs": [],
   "source": [
    "result = con.execute(\"asset.doc.type.create\", args.doc_text())"
   ]
  },
  {
   "cell_type": "code",
   "execution_count": 199,
   "metadata": {
    "collapsed": false
   },
   "outputs": [
    {
     "name": "stdout",
     "output_type": "stream",
     "text": [
      "<result><proj-marsupial_genomics-1128.4.19:mpp_general_test xmlns:proj-marsupial_genomics-1128.4.19=\"proj-marsupial_genomics-1128.4.19\" version=\"1\" /></result>\n"
     ]
    }
   ],
   "source": [
    "print result"
   ]
  },
  {
   "cell_type": "markdown",
   "metadata": {},
   "source": [
    "-----\n",
    "\n",
    "## Close connection to Mediaflux"
   ]
  },
  {
   "cell_type": "code",
   "execution_count": 200,
   "metadata": {
    "collapsed": true
   },
   "outputs": [],
   "source": [
    "con.close()"
   ]
  },
  {
   "cell_type": "code",
   "execution_count": null,
   "metadata": {
    "collapsed": true
   },
   "outputs": [],
   "source": []
  }
 ],
 "metadata": {
  "kernelspec": {
   "display_name": "Python 2",
   "language": "python",
   "name": "python2"
  },
  "language_info": {
   "codemirror_mode": {
    "name": "ipython",
    "version": 2
   },
   "file_extension": ".py",
   "mimetype": "text/x-python",
   "name": "python",
   "nbconvert_exporter": "python",
   "pygments_lexer": "ipython2",
   "version": "2.7.13"
  }
 },
 "nbformat": 4,
 "nbformat_minor": 2
}

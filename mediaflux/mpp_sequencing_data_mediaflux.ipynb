{
 "cells": [
  {
   "cell_type": "markdown",
   "metadata": {},
   "source": [
    "# MPP Sequencing data\n",
    "\n",
    "Input MPP metadata for the sequencing data into Mediaflux. \n",
    "Each library is archived (zipped with no compression) and uploaded to mediaflux. \n",
    "Each archive has metadata attached indicating the samples sequenced and barcodes for each sample."
   ]
  },
  {
   "cell_type": "code",
   "execution_count": 1,
   "metadata": {
    "collapsed": true
   },
   "outputs": [],
   "source": [
    "import sys\n",
    "import logging\n",
    "from Crypto.Cipher import AES\n",
    "import pandas as pd\n",
    "import random\n",
    "import re\n",
    "import os\n",
    "import datetime\n",
    "import time"
   ]
  },
  {
   "cell_type": "code",
   "execution_count": 2,
   "metadata": {
    "collapsed": true
   },
   "outputs": [],
   "source": [
    "sys.path.insert(0, 'python-mfclient/src')\n",
    "import mfclient"
   ]
  },
  {
   "cell_type": "code",
   "execution_count": 3,
   "metadata": {
    "collapsed": true
   },
   "outputs": [],
   "source": [
    "logging.basicConfig(\n",
    "    filename=\"mf_2018-02-13.log\",\n",
    "    level=logging.DEBUG,\n",
    "    filemode=\"a\",\n",
    "    format='%(asctime)s %(levelname)s - %(message)s',\n",
    "    datefmt='%m-%d-%Y %H:%M:%S')"
   ]
  },
  {
   "cell_type": "markdown",
   "metadata": {},
   "source": [
    "-----\n",
    "\n",
    "## Parse text and load files"
   ]
  },
  {
   "cell_type": "code",
   "execution_count": 4,
   "metadata": {
    "collapsed": true
   },
   "outputs": [],
   "source": [
    "raw_text = \"\"\"\n",
    "2016-10-30_Burramys_MtBuller_RADSeq_MiSeq/miseq_barcode.txt\n",
    "2017-03-24_Burramys_MtBuller_RADSeq_Lib1_trial/lib1_trial_barcode.txt\n",
    "2017-08-29_Burramys_MtBuller_RADSeq_Lib1/lib1_barcode.txt\n",
    "2017-08-29_Burramys_MtBuller_RADSeq_Lib2/lib2_barcode.txt\n",
    "2017-08-29_Burramys_MtBuller_RADSeq_Lib3/lib3_barcode.txt\n",
    "2017-08-29_Burramys_MtBuller_RADSeq_Lib4/lib4_barcode.txt\n",
    "2017-08-29_Burramys_MtBuller_RADSeq_Lib5/lib5_barcode.txt\n",
    "2017-08-29_Burramys_MtBuller_RADSeq_Lib6/lib6_barcode.txt\n",
    "2017-08-29_Burramys_MtBuller_RADSeq_Lib7/lib7_barcode.txt\n",
    "2017-10-31_Burramys_MtBuller_RADSeq_Lib10/lib10_barcode.txt\n",
    "2017-10-31_Burramys_MtBuller_RADSeq_Lib8/lib8_barcode.txt\n",
    "2017-10-31_Burramys_MtBuller_RADSeq_Lib9/lib9_barcode.txt\n",
    "2018-01-31_Burramys_MtBuller_RADSeq_Lib11/lib11_barcode.txt\n",
    "2018-01-31_Burramys_MtBuller_RADSeq_Lib12/lib12_barcode.txt\n",
    "\"\"\""
   ]
  },
  {
   "cell_type": "code",
   "execution_count": 5,
   "metadata": {
    "collapsed": true
   },
   "outputs": [],
   "source": [
    "text_list = raw_text.strip().split(\"\\n\")"
   ]
  },
  {
   "cell_type": "code",
   "execution_count": 6,
   "metadata": {
    "collapsed": false
   },
   "outputs": [
    {
     "data": {
      "text/plain": [
       "['2016-10-30_Burramys_MtBuller_RADSeq_MiSeq',\n",
       " '2017-03-24_Burramys_MtBuller_RADSeq_Lib1_trial',\n",
       " '2017-08-29_Burramys_MtBuller_RADSeq_Lib1',\n",
       " '2017-08-29_Burramys_MtBuller_RADSeq_Lib2',\n",
       " '2017-08-29_Burramys_MtBuller_RADSeq_Lib3',\n",
       " '2017-08-29_Burramys_MtBuller_RADSeq_Lib4',\n",
       " '2017-08-29_Burramys_MtBuller_RADSeq_Lib5',\n",
       " '2017-08-29_Burramys_MtBuller_RADSeq_Lib6',\n",
       " '2017-08-29_Burramys_MtBuller_RADSeq_Lib7',\n",
       " '2017-10-31_Burramys_MtBuller_RADSeq_Lib10',\n",
       " '2017-10-31_Burramys_MtBuller_RADSeq_Lib8',\n",
       " '2017-10-31_Burramys_MtBuller_RADSeq_Lib9',\n",
       " '2018-01-31_Burramys_MtBuller_RADSeq_Lib11',\n",
       " '2018-01-31_Burramys_MtBuller_RADSeq_Lib12']"
      ]
     },
     "execution_count": 6,
     "metadata": {},
     "output_type": "execute_result"
    }
   ],
   "source": [
    "library_names = [os.path.dirname(x) for x in text_list]\n",
    "library_names"
   ]
  },
  {
   "cell_type": "code",
   "execution_count": 7,
   "metadata": {
    "collapsed": false
   },
   "outputs": [
    {
     "data": {
      "text/plain": [
       "['2016-10-30_Burramys_MtBuller_RADSeq_MiSeq.zip',\n",
       " '2017-03-24_Burramys_MtBuller_RADSeq_Lib1_trial.zip',\n",
       " '2017-08-29_Burramys_MtBuller_RADSeq_Lib1.zip']"
      ]
     },
     "execution_count": 7,
     "metadata": {},
     "output_type": "execute_result"
    }
   ],
   "source": [
    "library_archives = [x + \".zip\" for x in library_names]\n",
    "library_archives[:3]"
   ]
  },
  {
   "cell_type": "code",
   "execution_count": 8,
   "metadata": {
    "collapsed": false
   },
   "outputs": [
    {
     "data": {
      "text/plain": [
       "['miseq_barcode.txt',\n",
       " 'lib1_trial_barcode.txt',\n",
       " 'lib1_barcode.txt',\n",
       " 'lib2_barcode.txt',\n",
       " 'lib3_barcode.txt',\n",
       " 'lib4_barcode.txt',\n",
       " 'lib5_barcode.txt',\n",
       " 'lib6_barcode.txt',\n",
       " 'lib7_barcode.txt',\n",
       " 'lib10_barcode.txt',\n",
       " 'lib8_barcode.txt',\n",
       " 'lib9_barcode.txt',\n",
       " 'lib11_barcode.txt',\n",
       " 'lib12_barcode.txt']"
      ]
     },
     "execution_count": 8,
     "metadata": {},
     "output_type": "execute_result"
    }
   ],
   "source": [
    "barcode_filenames = [os.path.basename(x) for x in text_list]\n",
    "barcode_filenames"
   ]
  },
  {
   "cell_type": "markdown",
   "metadata": {},
   "source": [
    "```\n",
    "# Download barcode files\n",
    "rsync -av jess@115.146.85.115:/home/elf/elf/Burramys/data/*/*barcode.txt .\n",
    "```"
   ]
  },
  {
   "cell_type": "code",
   "execution_count": 9,
   "metadata": {
    "collapsed": true
   },
   "outputs": [],
   "source": [
    "# Check barcode files\n",
    "for x in barcode_filenames:\n",
    "    assert(x in os.listdir(\"../data/barcodes/\"))"
   ]
  },
  {
   "cell_type": "code",
   "execution_count": 10,
   "metadata": {
    "collapsed": false
   },
   "outputs": [],
   "source": [
    "library_info = {}\n",
    "for i, archive in enumerate(library_archives):\n",
    "    library_info[archive] = {}\n",
    "    library_info[archive][\"barcode_filename\"] = barcode_filenames[i]\n",
    "    library_info[archive][\"library_name\"] = library_names[i]\n",
    "    library_info[archive][\"barcode_info\"] = pd.read_table(\n",
    "        \"../data/barcodes/{}\".format(library_info[archive][\"barcode_filename\"]), \n",
    "        header=None)"
   ]
  },
  {
   "cell_type": "code",
   "execution_count": 11,
   "metadata": {
    "collapsed": false
   },
   "outputs": [
    {
     "data": {
      "text/html": [
       "<div>\n",
       "<style scoped>\n",
       "    .dataframe tbody tr th:only-of-type {\n",
       "        vertical-align: middle;\n",
       "    }\n",
       "\n",
       "    .dataframe tbody tr th {\n",
       "        vertical-align: top;\n",
       "    }\n",
       "\n",
       "    .dataframe thead th {\n",
       "        text-align: right;\n",
       "    }\n",
       "</style>\n",
       "<table border=\"1\" class=\"dataframe\">\n",
       "  <thead>\n",
       "    <tr style=\"text-align: right;\">\n",
       "      <th></th>\n",
       "      <th>0</th>\n",
       "      <th>1</th>\n",
       "      <th>2</th>\n",
       "    </tr>\n",
       "  </thead>\n",
       "  <tbody>\n",
       "    <tr>\n",
       "      <th>0</th>\n",
       "      <td>ACGTCA</td>\n",
       "      <td>CATGAC</td>\n",
       "      <td>Buller_969</td>\n",
       "    </tr>\n",
       "    <tr>\n",
       "      <th>1</th>\n",
       "      <td>GTACTG</td>\n",
       "      <td>CATGAC</td>\n",
       "      <td>Buller_972</td>\n",
       "    </tr>\n",
       "    <tr>\n",
       "      <th>2</th>\n",
       "      <td>CTAGTC</td>\n",
       "      <td>CATGAC</td>\n",
       "      <td>Buller_978</td>\n",
       "    </tr>\n",
       "    <tr>\n",
       "      <th>3</th>\n",
       "      <td>AGCTGA</td>\n",
       "      <td>CATGAC</td>\n",
       "      <td>Buller_8115</td>\n",
       "    </tr>\n",
       "    <tr>\n",
       "      <th>4</th>\n",
       "      <td>TCGACT</td>\n",
       "      <td>CATGAC</td>\n",
       "      <td>Buller_8120</td>\n",
       "    </tr>\n",
       "  </tbody>\n",
       "</table>\n",
       "</div>"
      ],
      "text/plain": [
       "        0       1            2\n",
       "0  ACGTCA  CATGAC   Buller_969\n",
       "1  GTACTG  CATGAC   Buller_972\n",
       "2  CTAGTC  CATGAC   Buller_978\n",
       "3  AGCTGA  CATGAC  Buller_8115\n",
       "4  TCGACT  CATGAC  Buller_8120"
      ]
     },
     "execution_count": 11,
     "metadata": {},
     "output_type": "execute_result"
    }
   ],
   "source": [
    "library_info[\"2017-03-24_Burramys_MtBuller_RADSeq_Lib1_trial.zip\"][\"barcode_info\"].head()"
   ]
  },
  {
   "cell_type": "markdown",
   "metadata": {},
   "source": [
    "```\n",
    "# Additionally, two archives don't have barcode info, and the samples are already \n",
    "# separated into separate fastq files\n",
    "#   2014_02_XX_Burramys_MtBuller_RADSeq_NlaIIIxMluCI.zip\n",
    "#   2017-12-26_Burramys_MtBuller_WGS_LibHair.zip\n",
    "\n",
    "cd /home/elf/elf/Burramys/data/2014_02_XX_Burramys_MtBuller_RADSeq_NlaIIIxMluCI\n",
    "ls -1 * | tr '\\n' ' '\n",
    "\n",
    "cd /home/elf/elf/Burramys/data/2017-12-26_Burramys_MtBuller_WGS_LibHair\n",
    "ls -1 * | tr '\\n' ' '\n",
    "```"
   ]
  },
  {
   "cell_type": "code",
   "execution_count": 17,
   "metadata": {
    "collapsed": true
   },
   "outputs": [],
   "source": [
    "NlaIIIxMluCI_files = \"10_1.fq.gz 10_2.fq.gz 204_1.fq.gz 204_2.fq.gz 312_1.fq.gz 312_2.fq.gz 313_1.fq.gz 313_2.fq.gz 377_1.fq.gz 377_2.fq.gz 379_1.fq.gz 379_2.fq.gz 380_1.fq.gz 380_2.fq.gz 381_1.fq.gz 381_2.fq.gz 383_1.fq.gz 383_2.fq.gz 384_1.fq.gz 384_2.fq.gz 385_1.fq.gz 385_2.fq.gz 386_1.fq.gz 386_2.fq.gz 388_1.fq.gz 388_2.fq.gz 389_1.fq.gz 389_2.fq.gz 390_1.fq.gz 390_2.fq.gz 391_1.fq.gz 391_2.fq.gz 392_1.fq.gz 392_2.fq.gz 393_1.fq.gz 393_2.fq.gz 395_1.fq.gz 395_2.fq.gz 6654_1.fq.gz 6654_2.fq.gz 6656_1.fq.gz 6656_2.fq.gz 7323_1.fq.gz 7323_2.fq.gz 7343_1.fq.gz 7343_2.fq.gz 7473_1.fq.gz 7473_2.fq.gz 8115_1.fq.gz 8115_2.fq.gz 8120_1.fq.gz 8120_2.fq.gz 8124_1.fq.gz 8124_2.fq.gz 8164_1.fq.gz 8164_2.fq.gz 8175_1.fq.gz 8175_2.fq.gz 8185_1.fq.gz 8185_2.fq.gz 8391_1.fq.gz 8391_2.fq.gz 8426_1.fq.gz 8426_2.fq.gz 8462_1.fq.gz 8462_2.fq.gz 8470_1.fq.gz 8470_2.fq.gz 8471_1.fq.gz 8471_2.fq.gz 8473_1.fq.gz 8473_2.fq.gz 8526_1.fq.gz 8526_2.fq.gz 8647_1.fq.gz 8647_2.fq.gz 8658_1.fq.gz 8658_2.fq.gz 8672_1.fq.gz 8672_2.fq.gz\"\n",
    "LibHair_files = \"34_1_wgs.fq.gz 34_2_wgs.fq.gz 7331_1_wgs.fq.gz 7331_2_wgs.fq.gz 7393_1_wgs.fq.gz 7393_2_wgs.fq.gz 8717_1_wgs.fq.gz 8717_2_wgs.fq.gz 8724_1_wgs.fq.gz 8724_2_wgs.fq.gz 8997_1_wgs.fq.gz 8997_2_wgs.fq.gz\""
   ]
  },
  {
   "cell_type": "code",
   "execution_count": 18,
   "metadata": {
    "collapsed": false
   },
   "outputs": [],
   "source": [
    "NlaIIIxMluCI_samples = [re.sub(\"_1.fq.gz\", \"\", x) for x in NlaIIIxMluCI_files.split(\" \") \n",
    "                        if re.search(\"_1.fq.gz\", x)]\n",
    "LibHair_samples = [re.sub(\"_1_wgs.fq.gz\", \"\", x) for x in LibHair_files.split(\" \") \n",
    "                                       if re.search(\"_1_wgs.fq.gz\", x)]"
   ]
  },
  {
   "cell_type": "code",
   "execution_count": 19,
   "metadata": {
    "collapsed": false
   },
   "outputs": [
    {
     "data": {
      "text/plain": [
       "['10', '204', '312', '313', '377']"
      ]
     },
     "execution_count": 19,
     "metadata": {},
     "output_type": "execute_result"
    }
   ],
   "source": [
    "NlaIIIxMluCI_samples[:5]"
   ]
  },
  {
   "cell_type": "code",
   "execution_count": 20,
   "metadata": {
    "collapsed": false
   },
   "outputs": [
    {
     "data": {
      "text/plain": [
       "['34', '7331', '7393', '8717', '8724', '8997']"
      ]
     },
     "execution_count": 20,
     "metadata": {},
     "output_type": "execute_result"
    }
   ],
   "source": [
    "LibHair_samples"
   ]
  },
  {
   "cell_type": "code",
   "execution_count": 21,
   "metadata": {
    "collapsed": false
   },
   "outputs": [],
   "source": [
    "d = {}\n",
    "d[\"library_name\"] = \"2014_02_XX_Burramys_MtBuller_RADSeq_NlaIIIxMluCI\"\n",
    "d[\"samples\"] = NlaIIIxMluCI_samples\n",
    "library_info[\"2014_02_XX_Burramys_MtBuller_RADSeq_NlaIIIxMluCI.zip\"] = d"
   ]
  },
  {
   "cell_type": "code",
   "execution_count": 22,
   "metadata": {
    "collapsed": true
   },
   "outputs": [],
   "source": [
    "d = {}\n",
    "d[\"library_name\"] = \"2017-12-26_Burramys_MtBuller_WGS_LibHair\"\n",
    "d[\"samples\"] = LibHair_samples\n",
    "library_info[\"2017-12-26_Burramys_MtBuller_WGS_LibHair.zip\"] = d"
   ]
  },
  {
   "cell_type": "markdown",
   "metadata": {},
   "source": [
    "-----\n",
    "\n",
    "## Connect to MF server"
   ]
  },
  {
   "cell_type": "code",
   "execution_count": 23,
   "metadata": {
    "collapsed": true
   },
   "outputs": [],
   "source": [
    "with open(\"keys/key\") as f:\n",
    "    key = f.read().strip()\n",
    "with open(\"keys/iv\") as f:\n",
    "    iv = f.read().strip()\n",
    "obj = AES.new(key, AES.MODE_CFB, iv)"
   ]
  },
  {
   "cell_type": "code",
   "execution_count": 24,
   "metadata": {
    "collapsed": false
   },
   "outputs": [],
   "source": [
    "with open(\"/Users/jess/.ssh/encrypted_pw.txt\") as f:\n",
    "    pw = f.read().strip()"
   ]
  },
  {
   "cell_type": "code",
   "execution_count": 25,
   "metadata": {
    "collapsed": true
   },
   "outputs": [],
   "source": [
    "MF_HOST = \"mediaflux.vicnode.org.au\"\n",
    "MF_PORT = 443\n",
    "MF_TRANSPORT = \"https\"\n",
    "MF_DOMAIN = \"aaf\"\n",
    "MF_USER = \"unimelb:jessicac\"\n",
    "MF_PASSWORD = obj.decrypt(pw)"
   ]
  },
  {
   "cell_type": "code",
   "execution_count": 26,
   "metadata": {
    "collapsed": true
   },
   "outputs": [],
   "source": [
    "con = mfclient.MFConnection(host=MF_HOST,\n",
    "                            port=MF_PORT,\n",
    "                            transport=MF_TRANSPORT,\n",
    "                            domain=MF_DOMAIN,\n",
    "                            user=MF_USER,\n",
    "                            password=MF_PASSWORD)"
   ]
  },
  {
   "cell_type": "code",
   "execution_count": 27,
   "metadata": {
    "collapsed": false
   },
   "outputs": [],
   "source": [
    "logging.info(\"Connecting to mediaflux.\")\n",
    "con.open()\n",
    "result = con.execute(\"server.version\")"
   ]
  },
  {
   "cell_type": "code",
   "execution_count": 28,
   "metadata": {
    "collapsed": false
   },
   "outputs": [
    {
     "data": {
      "text/plain": [
       "'<result><ant-version>Apache Ant 1.9.4</ant-version><binary>aserver</binary><build-time>31-Jan-2018 16:49:25 AEDT</build-time><built-by>Arcitecta. Pty. Ltd.</built-by><created-by>1.8.0_111-b14 (Oracle Corporation)</created-by><manifest-version>1.0</manifest-version><target-jvm>1.7</target-jvm><vendor>Arcitecta Pty. Ltd.</vendor><version>4.6.034</version></result>'"
      ]
     },
     "execution_count": 28,
     "metadata": {},
     "output_type": "execute_result"
    }
   ],
   "source": [
    "result.tostring()"
   ]
  },
  {
   "cell_type": "markdown",
   "metadata": {},
   "source": [
    "-----\n",
    "\n",
    "## Find sequencing archives on Mediaflux\n",
    "\n",
    "Find sequencing archives and get asset ID on the Mediaflux server"
   ]
  },
  {
   "cell_type": "code",
   "execution_count": 29,
   "metadata": {
    "collapsed": false
   },
   "outputs": [],
   "source": [
    "# Query for RADSeq directory\n",
    "args = mfclient.XmlStringWriter(\"args\")\n",
    "args.add(\"where\", \"namespace=/projects/proj-marsupial_genomics-1128.4.19/Burramys/RADSeq\")\n",
    "args.add(\"action\", \"get-path\")\n",
    "args.add(\"size\", \"infinity\")\n",
    "radseq_query = con.execute(\"asset.query\", args.doc_text())"
   ]
  },
  {
   "cell_type": "code",
   "execution_count": 30,
   "metadata": {
    "collapsed": false
   },
   "outputs": [],
   "source": [
    "# Query for WGS directory\n",
    "args = mfclient.XmlStringWriter(\"args\")\n",
    "args.add(\"where\", \"namespace=/projects/proj-marsupial_genomics-1128.4.19/Burramys/WGS\")\n",
    "args.add(\"action\", \"get-path\")\n",
    "args.add(\"size\", \"infinity\")\n",
    "wgs_query = con.execute(\"asset.query\", args.doc_text())"
   ]
  },
  {
   "cell_type": "code",
   "execution_count": 31,
   "metadata": {
    "collapsed": false
   },
   "outputs": [
    {
     "data": {
      "text/plain": [
       "'<result><path id=\"35533853\" version=\"1\">/projects/proj-marsupial_genomics-1128.4.19/Burramys/WGS/2017-12-26_Burramys_MtBuller_WGS_LibHair.zip</path></result>'"
      ]
     },
     "execution_count": 31,
     "metadata": {},
     "output_type": "execute_result"
    }
   ],
   "source": [
    "wgs_query.tostring()"
   ]
  },
  {
   "cell_type": "code",
   "execution_count": 32,
   "metadata": {
    "collapsed": false
   },
   "outputs": [
    {
     "name": "stdout",
     "output_type": "stream",
     "text": [
      "35531098 - 2017-08-29_Burramys_MtBuller_RADSeq_Lib1.zip\n",
      "35531152 - 2017-03-24_Burramys_MtBuller_RADSeq_Lib1_trial.zip\n",
      "35532447 - 2014_02_XX_Burramys_MtBuller_RADSeq_NlaIIIxMluCI.zip\n",
      "35532450 - 2016-10-30_Burramys_MtBuller_RADSeq_MiSeq.zip\n",
      "35532451 - 2017-08-29_Burramys_MtBuller_RADSeq_Lib2.zip\n",
      "35532452 - 2017-08-29_Burramys_MtBuller_RADSeq_Lib3.zip\n",
      "35532453 - 2017-08-29_Burramys_MtBuller_RADSeq_Lib4.zip\n",
      "35532454 - 2017-08-29_Burramys_MtBuller_RADSeq_Lib5.zip\n",
      "35532456 - 2017-08-29_Burramys_MtBuller_RADSeq_Lib6.zip\n",
      "35532457 - 2017-08-29_Burramys_MtBuller_RADSeq_Lib7.zip\n",
      "35532458 - 2017-10-31_Burramys_MtBuller_RADSeq_Lib8.zip\n",
      "35532460 - 2017-10-31_Burramys_MtBuller_RADSeq_Lib9.zip\n",
      "35532461 - 2017-10-31_Burramys_MtBuller_RADSeq_Lib10.zip\n",
      "35532462 - 2018-01-31_Burramys_MtBuller_RADSeq_Lib11.zip\n",
      "35532463 - 2018-01-31_Burramys_MtBuller_RADSeq_Lib12.zip\n",
      "35533853 - 2017-12-26_Burramys_MtBuller_WGS_LibHair.zip\n"
     ]
    }
   ],
   "source": [
    "# Add to asset ID to library_info\n",
    "path_elements = radseq_query.elements(\"path\") + wgs_query.elements(\"path\")\n",
    "\n",
    "for pe in path_elements:\n",
    "    path = pe.value()\n",
    "    id = pe.value(\"@id\")\n",
    "    archive_name = os.path.basename(path)\n",
    "    print(id + \" - \" + archive_name)\n",
    "    assert(archive_name in library_info)\n",
    "    library_info[archive_name][\"asset_id\"] = id\n",
    "    library_info[archive_name][\"asset_path\"] = path"
   ]
  },
  {
   "cell_type": "markdown",
   "metadata": {},
   "source": [
    "-----\n",
    "\n",
    "## Process barcode and sample names\n",
    "\n",
    "Wrangle barcodes and sample names into a format that will be attached to the sequencing archive"
   ]
  },
  {
   "cell_type": "code",
   "execution_count": 33,
   "metadata": {
    "collapsed": false
   },
   "outputs": [
    {
     "name": "stdout",
     "output_type": "stream",
     "text": [
      "2017-10-31_Burramys_MtBuller_RADSeq_Lib9.zip\n",
      "2017-10-31_Burramys_MtBuller_RADSeq_Lib8.zip\n",
      "2016-10-30_Burramys_MtBuller_RADSeq_MiSeq.zip\n",
      "2017-10-31_Burramys_MtBuller_RADSeq_Lib10.zip\n",
      "2017-08-29_Burramys_MtBuller_RADSeq_Lib7.zip\n",
      "2017-08-29_Burramys_MtBuller_RADSeq_Lib6.zip\n",
      "2017-12-26_Burramys_MtBuller_WGS_LibHair.zip\n",
      "2017-08-29_Burramys_MtBuller_RADSeq_Lib2.zip\n",
      "2017-08-29_Burramys_MtBuller_RADSeq_Lib4.zip\n",
      "2018-01-31_Burramys_MtBuller_RADSeq_Lib12.zip\n",
      "2017-08-29_Burramys_MtBuller_RADSeq_Lib1.zip\n",
      "2014_02_XX_Burramys_MtBuller_RADSeq_NlaIIIxMluCI.zip\n",
      "2017-03-24_Burramys_MtBuller_RADSeq_Lib1_trial.zip\n",
      "2018-01-31_Burramys_MtBuller_RADSeq_Lib11.zip\n",
      "2017-08-29_Burramys_MtBuller_RADSeq_Lib3.zip\n",
      "2017-08-29_Burramys_MtBuller_RADSeq_Lib5.zip\n"
     ]
    }
   ],
   "source": [
    "for archive_name, info in library_info.iteritems():\n",
    "    print(archive_name)\n",
    "    metadata = []\n",
    "    if \"barcode_info\" in info:\n",
    "        for i in info[\"barcode_info\"].itertuples():\n",
    "            metadata.append(\"{},{},{}\".format(i[1], i[2], i[3]))\n",
    "    else:\n",
    "        for i in info[\"samples\"]:\n",
    "            metadata.append(\",,{}\".format(i))\n",
    "    library_info[archive_name][\"metadata\"] = metadata"
   ]
  },
  {
   "cell_type": "code",
   "execution_count": 34,
   "metadata": {
    "collapsed": false
   },
   "outputs": [
    {
     "data": {
      "text/plain": [
       "[',,34', ',,7331', ',,7393', ',,8717', ',,8724', ',,8997']"
      ]
     },
     "execution_count": 34,
     "metadata": {},
     "output_type": "execute_result"
    }
   ],
   "source": [
    "library_info[\"2017-12-26_Burramys_MtBuller_WGS_LibHair.zip\"][\"metadata\"]"
   ]
  },
  {
   "cell_type": "code",
   "execution_count": 35,
   "metadata": {
    "collapsed": false
   },
   "outputs": [
    {
     "data": {
      "text/plain": [
       "['ACGTCA,CATGAC,928',\n",
       " 'GTACTG,CATGAC,934',\n",
       " 'CTAGTC,CATGAC,975',\n",
       " 'AGCTGA,CATGAC,1413',\n",
       " 'TCGACT,CATGAC,1447',\n",
       " 'GATCAG,CATGAC,1451',\n",
       " 'ATGCTA,CATGAC,1461',\n",
       " 'GCATAG,CATGAC,1470',\n",
       " 'CGTAGC,CATGAC,1472',\n",
       " 'TACGCT,CATGAC,1473']"
      ]
     },
     "execution_count": 35,
     "metadata": {},
     "output_type": "execute_result"
    }
   ],
   "source": [
    "library_info[\"2018-01-31_Burramys_MtBuller_RADSeq_Lib11.zip\"][\"metadata\"][:10]"
   ]
  },
  {
   "cell_type": "markdown",
   "metadata": {},
   "source": [
    "-----\n",
    "\n",
    "## Create metadata document"
   ]
  },
  {
   "cell_type": "code",
   "execution_count": 170,
   "metadata": {
    "collapsed": false
   },
   "outputs": [],
   "source": [
    "# test metadata has example\n",
    "args = mfclient.XmlStringWriter(\"args\")\n",
    "args.add(\"type\", \"proj-marsupial_genomics-1128.4.19:test\")\n",
    "result = con.execute(\"asset.doc.type.describe\", args.doc_text())"
   ]
  },
  {
   "cell_type": "code",
   "execution_count": 172,
   "metadata": {
    "collapsed": false
   },
   "outputs": [
    {
     "name": "stdout",
     "output_type": "stream",
     "text": [
      "<result><type for=\"asset\" id=\"241\" name=\"proj-marsupial_genomics-1128.4.19:test\" version=\"8\"><label>proj-marsupial_genomics-1128.4.19:test</label><description>test description</description><generated-by>user</generated-by><allow-incomplete>maybe</allow-incomplete><access><administer>true</administer><create>true</create><modify>true</modify><publish>true</publish></access><creator id=\"1398\"><domain>aaf</domain><user>jchung@unimelb.edu.au</user><name>Jessica Chung</name><email>jchung@unimelb.edu.au</email></creator><ctime dst=\"true\" gmt-offset=\"10.0\" time=\"1517807989341\" tz=\"Australia/Melbourne\">05-Feb-2018 16:19:49</ctime><definition><element label=\"ID\" max-occurs=\"1\" name=\"id\" type=\"string\"><description>description for id</description><instructions>instructions for id</instructions></element><element max-occurs=\"100\" min-occurs=\"0\" name=\"location\" type=\"string\" /><element max-occurs=\"1\" name=\"enum\" type=\"enumeration\"><restriction base=\"enumeration\"><value>val1</value><value>val2</value><value>val3</value></restriction><value as=\"default\">val1</value></element><element max-occurs=\"1000\" min-occurs=\"0\" name=\"sample_barcodes\" type=\"string\"><description>barcode and sample name in archive</description><instructions>Barcodes and sample name in the format barcode1:barcode2:sample_name (e.g. ACGTCA:CATGAC:8162)</instructions></element></definition></type></result>\n"
     ]
    }
   ],
   "source": [
    "print result"
   ]
  },
  {
   "cell_type": "code",
   "execution_count": null,
   "metadata": {
    "collapsed": true
   },
   "outputs": [],
   "source": [
    "# <element max-occurs=\"1000\" min-occurs=\"0\" name=\"sample_barcodes\" type=\"string\">\n",
    "#     <description>barcode and sample name in archive</description>\n",
    "#     <instructions>Barcodes and sample name in the format barcode1:barcode2:sample_name (e.g. ACGTCA:CATGAC:8162)</instructions>\n",
    "# </element>"
   ]
  },
  {
   "cell_type": "code",
   "execution_count": 187,
   "metadata": {
    "collapsed": false
   },
   "outputs": [],
   "source": [
    "project_namespace = \"proj-marsupial_genomics-1128.4.19\"\n",
    "document_name = \"mpp_seq_archive\"\n",
    "\n",
    "args = mfclient.XmlStringWriter(\"args\")\n",
    "args.add(\"type\", \"{}:{}\".format(project_namespace, document_name))\n",
    "args.add(\"label\", \"{}:{}\".format(project_namespace, document_name))\n",
    "args.add(\"description\", \"Sequence library information\")\n",
    "args.add(\"instructions\", \n",
    "         \"This metadata document holds information of a library and \" \\\n",
    "         \"should be attached to a zipped archive that contains sequencing \" \\\n",
    "         \"files in fastq format.\")\n",
    "\n",
    "# Metadata definitions\n",
    "args.push(\"definition\")\n",
    "\n",
    "# Library name\n",
    "attr = {\"name\": \"library_name\",\n",
    "        \"max-occurs\": 1,\n",
    "        \"min-occurs\": 1,\n",
    "        \"type\": \"string\"}\n",
    "args.push(\"element\", attributes=attr)\n",
    "args.add(\"description\", \"Library name of the data\")\n",
    "args.add(\"instructions\", \"e.g. '2017-08-29_Burramys_MtBuller_RADSeq_Lib1'\")\n",
    "args.pop()\n",
    "\n",
    "# Barcodes and sample name\n",
    "attr = {\"name\": \"sample_barcode\",\n",
    "        \"max-occurs\": 1000,\n",
    "        \"min-occurs\": 1,\n",
    "        \"type\": \"string\"}\n",
    "args.push(\"element\", attributes=attr)\n",
    "args.add(\"description\", \"Barcode and sample names included in the archive\")\n",
    "args.add(\"instructions\", \"Comma-separated values: barcode1,barcode2,sample_name (e.g. 'ACGTCA,CATGAC,8162')\")\n",
    "args.pop()\n",
    "\n",
    "args.pop() # end definition"
   ]
  },
  {
   "cell_type": "code",
   "execution_count": 188,
   "metadata": {
    "collapsed": false
   },
   "outputs": [
    {
     "data": {
      "text/plain": [
       "'<args><type>proj-marsupial_genomics-1128.4.19:mpp_seq_archive</type><label>proj-marsupial_genomics-1128.4.19:mpp_seq_archive</label><description>Sequence library information</description><instructions>This metadata document holds information of a library and should be attached to a zipped archive that contains sequencing files in fastq format.</instructions><definition><element min-occurs=\"1\" type=\"string\" name=\"library_name\" max-occurs=\"1\"><description>Library name of the data</description><instructions>e.g. \\'2017-08-29_Burramys_MtBuller_RADSeq_Lib1\\'</instructions></element><element min-occurs=\"1\" type=\"string\" name=\"sample_barcode\" max-occurs=\"1000\"><description>Barcode and sample names included in the archive</description><instructions>Comma-separated values: barcode1,barcode2,sample_name (e.g. \\'ACGTCA,CATGAC,8162\\')</instructions></element></definition></args>'"
      ]
     },
     "execution_count": 188,
     "metadata": {},
     "output_type": "execute_result"
    }
   ],
   "source": [
    "args.doc_text()"
   ]
  },
  {
   "cell_type": "code",
   "execution_count": 189,
   "metadata": {
    "collapsed": false
   },
   "outputs": [],
   "source": [
    "logging.info(\"Creating metadata document: {}:{}\".format(project_namespace, document_name))\n",
    "result = con.execute(\"asset.doc.type.create\", args.doc_text())\n",
    "logging.info(result)"
   ]
  },
  {
   "cell_type": "markdown",
   "metadata": {},
   "source": [
    "-----\n",
    "\n",
    "## Populate metadata\n",
    "\n",
    "Set metadata for each library archive"
   ]
  },
  {
   "cell_type": "code",
   "execution_count": 37,
   "metadata": {
    "collapsed": true
   },
   "outputs": [],
   "source": [
    "project_namespace = \"proj-marsupial_genomics-1128.4.19\"\n",
    "document_name = \"mpp_seq_archive\"\n",
    "action = \"merge\""
   ]
  },
  {
   "cell_type": "code",
   "execution_count": 46,
   "metadata": {
    "collapsed": false
   },
   "outputs": [
    {
     "name": "stdout",
     "output_type": "stream",
     "text": [
      "35532460 - 2017-10-31_Burramys_MtBuller_RADSeq_Lib9.zip\n",
      "35532458 - 2017-10-31_Burramys_MtBuller_RADSeq_Lib8.zip\n",
      "35532450 - 2016-10-30_Burramys_MtBuller_RADSeq_MiSeq.zip\n",
      "35532461 - 2017-10-31_Burramys_MtBuller_RADSeq_Lib10.zip\n",
      "35532457 - 2017-08-29_Burramys_MtBuller_RADSeq_Lib7.zip\n",
      "35532456 - 2017-08-29_Burramys_MtBuller_RADSeq_Lib6.zip\n",
      "35533853 - 2017-12-26_Burramys_MtBuller_WGS_LibHair.zip\n",
      "35532451 - 2017-08-29_Burramys_MtBuller_RADSeq_Lib2.zip\n",
      "35532453 - 2017-08-29_Burramys_MtBuller_RADSeq_Lib4.zip\n",
      "35532463 - 2018-01-31_Burramys_MtBuller_RADSeq_Lib12.zip\n",
      "35531098 - 2017-08-29_Burramys_MtBuller_RADSeq_Lib1.zip\n",
      "35532447 - 2014_02_XX_Burramys_MtBuller_RADSeq_NlaIIIxMluCI.zip\n",
      "35531152 - 2017-03-24_Burramys_MtBuller_RADSeq_Lib1_trial.zip\n",
      "35532462 - 2018-01-31_Burramys_MtBuller_RADSeq_Lib11.zip\n",
      "35532452 - 2017-08-29_Burramys_MtBuller_RADSeq_Lib3.zip\n",
      "35532454 - 2017-08-29_Burramys_MtBuller_RADSeq_Lib5.zip\n"
     ]
    }
   ],
   "source": [
    "for library_name, info in library_info.iteritems():\n",
    "    print info[\"asset_id\"] + \" - \" + library_name\n",
    "#     print info[\"metadata\"]\n",
    "    args = mfclient.XmlStringWriter(\"args\")\n",
    "    args.add(\"id\", info[\"asset_id\"])\n",
    "    args.push(\"meta\", attributes={\"action\": action})\n",
    "    args.push(\"{}:{}\".format(project_namespace, document_name))\n",
    "    args.add(\"library_name\", info[\"library_name\"])\n",
    "    for x in info[\"metadata\"]:\n",
    "        args.add(\"sample_barcode\", x)\n",
    "    args.pop() # end namespace:metadata_document\n",
    "    args.pop() # end meta\n",
    "    logging.info(\"Setting metadata for asset id {} ({})\".format(info[\"asset_id\"], info[\"library_name\"]))\n",
    "    result = con.execute(\"asset.set\", args.doc_text())"
   ]
  },
  {
   "cell_type": "code",
   "execution_count": null,
   "metadata": {
    "collapsed": true
   },
   "outputs": [],
   "source": []
  },
  {
   "cell_type": "markdown",
   "metadata": {
    "collapsed": true
   },
   "source": [
    "-----\n",
    "\n",
    "## Close connection to Mediaflux"
   ]
  },
  {
   "cell_type": "code",
   "execution_count": 47,
   "metadata": {
    "collapsed": true
   },
   "outputs": [],
   "source": [
    "logging.info(\"Closing connection to mediaflux.\")\n",
    "con.close()"
   ]
  },
  {
   "cell_type": "code",
   "execution_count": null,
   "metadata": {
    "collapsed": true
   },
   "outputs": [],
   "source": []
  }
 ],
 "metadata": {
  "kernelspec": {
   "display_name": "Python 2",
   "language": "python",
   "name": "python2"
  },
  "language_info": {
   "codemirror_mode": {
    "name": "ipython",
    "version": 2
   },
   "file_extension": ".py",
   "mimetype": "text/x-python",
   "name": "python",
   "nbconvert_exporter": "python",
   "pygments_lexer": "ipython2",
   "version": "2.7.13"
  }
 },
 "nbformat": 4,
 "nbformat_minor": 2
}

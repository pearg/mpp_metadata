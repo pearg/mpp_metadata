{
 "cells": [
  {
   "cell_type": "markdown",
   "metadata": {},
   "source": [
    "# MPP Metadata\n",
    "\n",
    "Input MPP metadata into Mediaflux. Each possum has it's own asset file with metadata attached."
   ]
  },
  {
   "cell_type": "code",
   "execution_count": 1,
   "metadata": {
    "collapsed": true
   },
   "outputs": [],
   "source": [
    "import sys\n",
    "import logging\n",
    "from Crypto.Cipher import AES\n",
    "import pandas as pd\n",
    "import random\n",
    "import re\n",
    "import os\n",
    "import datetime\n",
    "import time"
   ]
  },
  {
   "cell_type": "code",
   "execution_count": 2,
   "metadata": {
    "collapsed": true
   },
   "outputs": [],
   "source": [
    "sys.path.insert(0, 'python-mfclient/src')\n",
    "import mfclient"
   ]
  },
  {
   "cell_type": "code",
   "execution_count": 4,
   "metadata": {
    "collapsed": true
   },
   "outputs": [],
   "source": [
    "logging.basicConfig(\n",
    "    filename=\"mf_2018-02-05.log\",\n",
    "    level=logging.DEBUG,\n",
    "    filemode=\"a\",\n",
    "    format='%(asctime)s %(levelname)s - %(message)s',\n",
    "    datefmt='%m-%d-%Y %H:%M:%S')"
   ]
  },
  {
   "cell_type": "markdown",
   "metadata": {},
   "source": [
    "-----\n",
    "\n",
    "## Load files"
   ]
  },
  {
   "cell_type": "code",
   "execution_count": 5,
   "metadata": {
    "collapsed": true
   },
   "outputs": [],
   "source": [
    "# Possum data\n",
    "general_data = pd.read_table(\"../output/general.tsv\")\n",
    "capture_data = pd.read_table(\"../output/wild_capture_records.tsv\")\n",
    "special_data = pd.read_table(\"../output/special_records.tsv\")\n",
    "microsat_data = pd.read_table(\"../output/microsat_data.tsv\")"
   ]
  },
  {
   "cell_type": "code",
   "execution_count": 6,
   "metadata": {
    "collapsed": true
   },
   "outputs": [],
   "source": [
    "# Metadata elements\n",
    "general_elements = pd.read_excel(\"../metadata_elements.xlsx\", sheet_name=0)\n",
    "capture_elements = pd.read_excel(\"../metadata_elements.xlsx\", sheet_name=1)\n",
    "special_elements = pd.read_excel(\"../metadata_elements.xlsx\", sheet_name=2)\n",
    "microsat_elements = pd.read_excel(\"../metadata_elements.xlsx\", sheet_name=3)"
   ]
  },
  {
   "cell_type": "markdown",
   "metadata": {},
   "source": [
    "-----\n",
    "\n",
    "## Connect to MF server"
   ]
  },
  {
   "cell_type": "code",
   "execution_count": 32,
   "metadata": {
    "collapsed": true
   },
   "outputs": [],
   "source": [
    "with open(\"keys/key\") as f:\n",
    "    key = f.read().strip()\n",
    "with open(\"keys/iv\") as f:\n",
    "    iv = f.read().strip()\n",
    "obj = AES.new(key, AES.MODE_CFB, iv)"
   ]
  },
  {
   "cell_type": "code",
   "execution_count": 33,
   "metadata": {
    "collapsed": false
   },
   "outputs": [],
   "source": [
    "with open(\"/Users/jess/.ssh/encrypted_pw.txt\") as f:\n",
    "    pw = f.read().strip()"
   ]
  },
  {
   "cell_type": "code",
   "execution_count": 34,
   "metadata": {
    "collapsed": true
   },
   "outputs": [],
   "source": [
    "MF_HOST = \"mediaflux.vicnode.org.au\"\n",
    "MF_PORT = 443\n",
    "MF_TRANSPORT = \"https\"\n",
    "MF_DOMAIN = \"aaf\"\n",
    "MF_USER = \"unimelb:jessicac\"\n",
    "MF_PASSWORD = obj.decrypt(pw)"
   ]
  },
  {
   "cell_type": "code",
   "execution_count": 78,
   "metadata": {
    "collapsed": true
   },
   "outputs": [],
   "source": [
    "con = mfclient.MFConnection(host=MF_HOST,\n",
    "                            port=MF_PORT,\n",
    "                            transport=MF_TRANSPORT,\n",
    "                            domain=MF_DOMAIN,\n",
    "                            user=MF_USER,\n",
    "                            password=MF_PASSWORD)"
   ]
  },
  {
   "cell_type": "code",
   "execution_count": 79,
   "metadata": {
    "collapsed": false
   },
   "outputs": [],
   "source": [
    "logging.info(\"Connecting to mediaflux.\")\n",
    "con.open()\n",
    "result = con.execute(\"server.version\")"
   ]
  },
  {
   "cell_type": "code",
   "execution_count": 80,
   "metadata": {
    "collapsed": false
   },
   "outputs": [
    {
     "data": {
      "text/plain": [
       "'<result><ant-version>Apache Ant 1.9.4</ant-version><binary>aserver</binary><build-time>31-Jan-2018 16:49:25 AEDT</build-time><built-by>Arcitecta. Pty. Ltd.</built-by><created-by>1.8.0_111-b14 (Oracle Corporation)</created-by><manifest-version>1.0</manifest-version><target-jvm>1.7</target-jvm><vendor>Arcitecta Pty. Ltd.</vendor><version>4.6.034</version></result>'"
      ]
     },
     "execution_count": 80,
     "metadata": {},
     "output_type": "execute_result"
    }
   ],
   "source": [
    "result.tostring()"
   ]
  },
  {
   "cell_type": "markdown",
   "metadata": {},
   "source": [
    "-----\n",
    "\n",
    "## Create asset files\n",
    "\n",
    "Create an asset file for each possum ID"
   ]
  },
  {
   "cell_type": "code",
   "execution_count": 38,
   "metadata": {
    "collapsed": false
   },
   "outputs": [
    {
     "data": {
      "text/plain": [
       "757"
      ]
     },
     "execution_count": 38,
     "metadata": {},
     "output_type": "execute_result"
    }
   ],
   "source": [
    "ids = list(general_data[\"id\"])\n",
    "len(ids)"
   ]
  },
  {
   "cell_type": "code",
   "execution_count": 39,
   "metadata": {
    "collapsed": true
   },
   "outputs": [],
   "source": [
    "matches = [re.search(\"\\d+\", x) for x in ids]"
   ]
  },
  {
   "cell_type": "code",
   "execution_count": 40,
   "metadata": {
    "collapsed": false
   },
   "outputs": [
    {
     "data": {
      "text/plain": [
       "[747]"
      ]
     },
     "execution_count": 40,
     "metadata": {},
     "output_type": "execute_result"
    }
   ],
   "source": [
    "[i for i, x in enumerate(matches) if x == None]"
   ]
  },
  {
   "cell_type": "code",
   "execution_count": 41,
   "metadata": {
    "collapsed": false
   },
   "outputs": [
    {
     "data": {
      "text/plain": [
       "'untagged'"
      ]
     },
     "execution_count": 41,
     "metadata": {},
     "output_type": "execute_result"
    }
   ],
   "source": [
    "ids[747]"
   ]
  },
  {
   "cell_type": "code",
   "execution_count": 42,
   "metadata": {
    "collapsed": false
   },
   "outputs": [
    {
     "data": {
      "text/plain": [
       "756"
      ]
     },
     "execution_count": 42,
     "metadata": {},
     "output_type": "execute_result"
    }
   ],
   "source": [
    "# Remove \"untagged\" value from IDs\n",
    "ids = [x for x in ids if x != \"untagged\"]\n",
    "len(ids)"
   ]
  },
  {
   "cell_type": "code",
   "execution_count": 43,
   "metadata": {
    "collapsed": true
   },
   "outputs": [],
   "source": [
    "# Find asset files already in directory\n",
    "asset_directory = \"/projects/proj-marsupial_genomics-1128.4.19/Burramys/Possums\"\n",
    "\n",
    "args = mfclient.XmlStringWriter(\"args\")\n",
    "args.add(\"where\", \"namespace={}\".format(asset_directory))\n",
    "args.add(\"action\", \"get-path\")\n",
    "args.add(\"size\", \"infinity\")\n",
    "result = con.execute(\"asset.query\", args.doc_text())"
   ]
  },
  {
   "cell_type": "code",
   "execution_count": 48,
   "metadata": {
    "collapsed": false
   },
   "outputs": [
    {
     "data": {
      "text/plain": [
       "True"
      ]
     },
     "execution_count": 48,
     "metadata": {},
     "output_type": "execute_result"
    }
   ],
   "source": [
    "result.elements(\"path\") == None"
   ]
  },
  {
   "cell_type": "code",
   "execution_count": 49,
   "metadata": {
    "collapsed": false
   },
   "outputs": [],
   "source": [
    "if result.elements(\"path\"):\n",
    "    for path_element in result.elements(\"path\")[0:5]:\n",
    "        path = path_element.value()     # get value inside 'path' element\n",
    "        id = path_element.value(\"@id\")  # get attribute value of 'id' attribute in 'path' element\n",
    "        print(\"\\t\" + id + \" - \" + path)"
   ]
  },
  {
   "cell_type": "code",
   "execution_count": 50,
   "metadata": {
    "collapsed": false
   },
   "outputs": [
    {
     "data": {
      "text/plain": [
       "0"
      ]
     },
     "execution_count": 50,
     "metadata": {},
     "output_type": "execute_result"
    }
   ],
   "source": [
    "if result.elements(\"path\"):\n",
    "    ids_in_directory = [os.path.basename(x.value()) for x in result.elements(\"path\")]\n",
    "else:\n",
    "    ids_in_directory = []\n",
    "len(ids_in_directory)"
   ]
  },
  {
   "cell_type": "code",
   "execution_count": 51,
   "metadata": {
    "collapsed": false
   },
   "outputs": [
    {
     "data": {
      "text/plain": [
       "756"
      ]
     },
     "execution_count": 51,
     "metadata": {},
     "output_type": "execute_result"
    }
   ],
   "source": [
    "# Get list of IDs to create\n",
    "mpp_ids = ids\n",
    "ids_to_create = [x for x in mpp_ids if x not in ids_in_directory]\n",
    "len(ids_to_create)"
   ]
  },
  {
   "cell_type": "code",
   "execution_count": 52,
   "metadata": {
    "collapsed": true
   },
   "outputs": [],
   "source": [
    "logging.info(\"Creating asset files with asset.get\")\n",
    "for possum_id in ids_to_create:\n",
    "    args = mfclient.XmlStringWriter(\"args\")\n",
    "    args.add(\"namespace\", asset_directory)\n",
    "    args.add(\"name\", possum_id)\n",
    "    result = con.execute(\"asset.create\", args.doc_text())\n",
    "    asset_id = result.value(\"id\")\n",
    "    logging.info(\"Possum ID {} asset file created (asset id {})\".format(possum_id, asset_id))"
   ]
  },
  {
   "cell_type": "markdown",
   "metadata": {},
   "source": [
    "-----\n",
    "\n",
    "## Process metadata and data\n",
    "\n",
    "- Sanity check columns\n",
    "- Enumeration values\n",
    "- Change date format"
   ]
  },
  {
   "cell_type": "code",
   "execution_count": 53,
   "metadata": {
    "collapsed": false,
    "scrolled": false
   },
   "outputs": [
    {
     "data": {
      "text/html": [
       "<div>\n",
       "<style scoped>\n",
       "    .dataframe tbody tr th:only-of-type {\n",
       "        vertical-align: middle;\n",
       "    }\n",
       "\n",
       "    .dataframe tbody tr th {\n",
       "        vertical-align: top;\n",
       "    }\n",
       "\n",
       "    .dataframe thead th {\n",
       "        text-align: right;\n",
       "    }\n",
       "</style>\n",
       "<table border=\"1\" class=\"dataframe\">\n",
       "  <thead>\n",
       "    <tr style=\"text-align: right;\">\n",
       "      <th></th>\n",
       "      <th>element</th>\n",
       "      <th>definition</th>\n",
       "      <th>instructions</th>\n",
       "      <th>requirement</th>\n",
       "      <th>type</th>\n",
       "      <th>default value</th>\n",
       "      <th>notes</th>\n",
       "    </tr>\n",
       "  </thead>\n",
       "  <tbody>\n",
       "    <tr>\n",
       "      <th>0</th>\n",
       "      <td>id</td>\n",
       "      <td>ID number on animal's ear tag</td>\n",
       "      <td>Usually a four-digit integer. Should not have ...</td>\n",
       "      <td>Mandatory</td>\n",
       "      <td>string</td>\n",
       "      <td>NaN</td>\n",
       "      <td>Each sample should only have one 'general' met...</td>\n",
       "    </tr>\n",
       "    <tr>\n",
       "      <th>1</th>\n",
       "      <td>sex</td>\n",
       "      <td>Sex of the animal</td>\n",
       "      <td>Allowed values: male, female, hermaphrodite, u...</td>\n",
       "      <td>Mandatory</td>\n",
       "      <td>enumeration</td>\n",
       "      <td>NaN</td>\n",
       "      <td>NaN</td>\n",
       "    </tr>\n",
       "    <tr>\n",
       "      <th>2</th>\n",
       "      <td>country</td>\n",
       "      <td>The name of the country or major administrativ...</td>\n",
       "      <td>For this study, only relevant value is Austral...</td>\n",
       "      <td>Mandatory</td>\n",
       "      <td>string</td>\n",
       "      <td>Australia</td>\n",
       "      <td>NaN</td>\n",
       "    </tr>\n",
       "    <tr>\n",
       "      <th>3</th>\n",
       "      <td>state_or_region</td>\n",
       "      <td>The name of the next smaller administrative re...</td>\n",
       "      <td>State name written out in full (no abbreviatio...</td>\n",
       "      <td>Mandatory</td>\n",
       "      <td>string</td>\n",
       "      <td>Victoria</td>\n",
       "      <td>NaN</td>\n",
       "    </tr>\n",
       "    <tr>\n",
       "      <th>4</th>\n",
       "      <td>taxon_id</td>\n",
       "      <td>ID number for this taxon from the NCBI Taxonom...</td>\n",
       "      <td>ID number results from https://www.ncbi.nlm.ni...</td>\n",
       "      <td>Mandatory</td>\n",
       "      <td>integer</td>\n",
       "      <td>38600</td>\n",
       "      <td>NaN</td>\n",
       "    </tr>\n",
       "  </tbody>\n",
       "</table>\n",
       "</div>"
      ],
      "text/plain": [
       "           element                                         definition  \\\n",
       "0               id                      ID number on animal's ear tag   \n",
       "1              sex                                  Sex of the animal   \n",
       "2          country  The name of the country or major administrativ...   \n",
       "3  state_or_region  The name of the next smaller administrative re...   \n",
       "4         taxon_id  ID number for this taxon from the NCBI Taxonom...   \n",
       "\n",
       "                                        instructions requirement         type  \\\n",
       "0  Usually a four-digit integer. Should not have ...   Mandatory       string   \n",
       "1  Allowed values: male, female, hermaphrodite, u...   Mandatory  enumeration   \n",
       "2  For this study, only relevant value is Austral...   Mandatory       string   \n",
       "3  State name written out in full (no abbreviatio...   Mandatory       string   \n",
       "4  ID number results from https://www.ncbi.nlm.ni...   Mandatory      integer   \n",
       "\n",
       "  default value                                              notes  \n",
       "0           NaN  Each sample should only have one 'general' met...  \n",
       "1           NaN                                                NaN  \n",
       "2     Australia                                                NaN  \n",
       "3      Victoria                                                NaN  \n",
       "4         38600                                                NaN  "
      ]
     },
     "execution_count": 53,
     "metadata": {},
     "output_type": "execute_result"
    }
   ],
   "source": [
    "general_elements.head()"
   ]
  },
  {
   "cell_type": "code",
   "execution_count": 54,
   "metadata": {
    "collapsed": false,
    "scrolled": true
   },
   "outputs": [
    {
     "data": {
      "text/html": [
       "<div>\n",
       "<style scoped>\n",
       "    .dataframe tbody tr th:only-of-type {\n",
       "        vertical-align: middle;\n",
       "    }\n",
       "\n",
       "    .dataframe tbody tr th {\n",
       "        vertical-align: top;\n",
       "    }\n",
       "\n",
       "    .dataframe thead th {\n",
       "        text-align: right;\n",
       "    }\n",
       "</style>\n",
       "<table border=\"1\" class=\"dataframe\">\n",
       "  <thead>\n",
       "    <tr style=\"text-align: right;\">\n",
       "      <th></th>\n",
       "      <th>element</th>\n",
       "      <th>definition</th>\n",
       "      <th>instructions</th>\n",
       "      <th>requirement</th>\n",
       "      <th>type</th>\n",
       "      <th>default value</th>\n",
       "      <th>notes</th>\n",
       "    </tr>\n",
       "  </thead>\n",
       "  <tbody>\n",
       "    <tr>\n",
       "      <th>0</th>\n",
       "      <td>id</td>\n",
       "      <td>ID number on animal's ear tag</td>\n",
       "      <td>Usually a four-digit integer. Should not have ...</td>\n",
       "      <td>Mandatory</td>\n",
       "      <td>string</td>\n",
       "      <td>NaN</td>\n",
       "      <td>Expect most samples to have multiple capture r...</td>\n",
       "    </tr>\n",
       "    <tr>\n",
       "      <th>1</th>\n",
       "      <td>date</td>\n",
       "      <td>Date of capture</td>\n",
       "      <td>Date of capture.</td>\n",
       "      <td>Mandatory</td>\n",
       "      <td>date</td>\n",
       "      <td>NaN</td>\n",
       "      <td>NaN</td>\n",
       "    </tr>\n",
       "    <tr>\n",
       "      <th>2</th>\n",
       "      <td>location</td>\n",
       "      <td>Text describing the mountain and sub-populatio...</td>\n",
       "      <td>E.g. Mount Buller, Federation, above 350. Allo...</td>\n",
       "      <td>Mandatory</td>\n",
       "      <td>string</td>\n",
       "      <td>NaN</td>\n",
       "      <td>NaN</td>\n",
       "    </tr>\n",
       "    <tr>\n",
       "      <th>3</th>\n",
       "      <td>sex</td>\n",
       "      <td>Sex of the animal</td>\n",
       "      <td>Allowed values: male, female, hermaphrodite, u...</td>\n",
       "      <td>Mandatory</td>\n",
       "      <td>enumeration</td>\n",
       "      <td>NaN</td>\n",
       "      <td>NaN</td>\n",
       "    </tr>\n",
       "    <tr>\n",
       "      <th>4</th>\n",
       "      <td>life_stage</td>\n",
       "      <td>The age class or life stage of the animal at t...</td>\n",
       "      <td>Terms from Uberon ontology http://www.ebi.ac.u...</td>\n",
       "      <td>Optional</td>\n",
       "      <td>enumeration</td>\n",
       "      <td>NaN</td>\n",
       "      <td>#WIP\\nCurrent values are: juvenile, immature a...</td>\n",
       "    </tr>\n",
       "  </tbody>\n",
       "</table>\n",
       "</div>"
      ],
      "text/plain": [
       "      element                                         definition  \\\n",
       "0          id                      ID number on animal's ear tag   \n",
       "1        date                                    Date of capture   \n",
       "2    location  Text describing the mountain and sub-populatio...   \n",
       "3         sex                                  Sex of the animal   \n",
       "4  life_stage  The age class or life stage of the animal at t...   \n",
       "\n",
       "                                        instructions requirement         type  \\\n",
       "0  Usually a four-digit integer. Should not have ...   Mandatory       string   \n",
       "1                                   Date of capture.   Mandatory         date   \n",
       "2  E.g. Mount Buller, Federation, above 350. Allo...   Mandatory       string   \n",
       "3  Allowed values: male, female, hermaphrodite, u...   Mandatory  enumeration   \n",
       "4  Terms from Uberon ontology http://www.ebi.ac.u...    Optional  enumeration   \n",
       "\n",
       "   default value                                              notes  \n",
       "0            NaN  Expect most samples to have multiple capture r...  \n",
       "1            NaN                                                NaN  \n",
       "2            NaN                                                NaN  \n",
       "3            NaN                                                NaN  \n",
       "4            NaN  #WIP\\nCurrent values are: juvenile, immature a...  "
      ]
     },
     "execution_count": 54,
     "metadata": {},
     "output_type": "execute_result"
    }
   ],
   "source": [
    "capture_elements.head()"
   ]
  },
  {
   "cell_type": "code",
   "execution_count": 55,
   "metadata": {
    "collapsed": false
   },
   "outputs": [
    {
     "data": {
      "text/html": [
       "<div>\n",
       "<style scoped>\n",
       "    .dataframe tbody tr th:only-of-type {\n",
       "        vertical-align: middle;\n",
       "    }\n",
       "\n",
       "    .dataframe tbody tr th {\n",
       "        vertical-align: top;\n",
       "    }\n",
       "\n",
       "    .dataframe thead th {\n",
       "        text-align: right;\n",
       "    }\n",
       "</style>\n",
       "<table border=\"1\" class=\"dataframe\">\n",
       "  <thead>\n",
       "    <tr style=\"text-align: right;\">\n",
       "      <th></th>\n",
       "      <th>element</th>\n",
       "      <th>definition</th>\n",
       "      <th>instructions</th>\n",
       "      <th>requirement</th>\n",
       "      <th>type</th>\n",
       "      <th>default value</th>\n",
       "      <th>notes</th>\n",
       "    </tr>\n",
       "  </thead>\n",
       "  <tbody>\n",
       "    <tr>\n",
       "      <th>0</th>\n",
       "      <td>id</td>\n",
       "      <td>ID number. The animals with these metadata fie...</td>\n",
       "      <td>Usually a four-digit integer. Should not have ...</td>\n",
       "      <td>Mandatory</td>\n",
       "      <td>string</td>\n",
       "      <td>NaN</td>\n",
       "      <td>NaN</td>\n",
       "    </tr>\n",
       "    <tr>\n",
       "      <th>1</th>\n",
       "      <td>year</td>\n",
       "      <td>Year of recording</td>\n",
       "      <td>Year of recording details of the animal</td>\n",
       "      <td>Mandatory</td>\n",
       "      <td>integer</td>\n",
       "      <td>NaN</td>\n",
       "      <td>NaN</td>\n",
       "    </tr>\n",
       "    <tr>\n",
       "      <th>2</th>\n",
       "      <td>source</td>\n",
       "      <td>Text describing the source population</td>\n",
       "      <td>E.g. Healesville Sanctuary zoo release, Mount ...</td>\n",
       "      <td>Mandatory</td>\n",
       "      <td>string</td>\n",
       "      <td>NaN</td>\n",
       "      <td>NaN</td>\n",
       "    </tr>\n",
       "    <tr>\n",
       "      <th>3</th>\n",
       "      <td>sex</td>\n",
       "      <td>Sex of the animal</td>\n",
       "      <td>Allowed values: male, female, hermaphrodite, u...</td>\n",
       "      <td>Mandatory</td>\n",
       "      <td>enumeration</td>\n",
       "      <td>NaN</td>\n",
       "      <td>NaN</td>\n",
       "    </tr>\n",
       "    <tr>\n",
       "      <th>4</th>\n",
       "      <td>weight</td>\n",
       "      <td>Weight of the animal in grams</td>\n",
       "      <td>Numeric. Allowed missing values are unknown, n...</td>\n",
       "      <td>Optional</td>\n",
       "      <td>double</td>\n",
       "      <td>NaN</td>\n",
       "      <td>Note: columns from weight to other_notes are i...</td>\n",
       "    </tr>\n",
       "  </tbody>\n",
       "</table>\n",
       "</div>"
      ],
      "text/plain": [
       "  element                                         definition  \\\n",
       "0      id  ID number. The animals with these metadata fie...   \n",
       "1    year                                  Year of recording   \n",
       "2  source              Text describing the source population   \n",
       "3     sex                                  Sex of the animal   \n",
       "4  weight                      Weight of the animal in grams   \n",
       "\n",
       "                                        instructions requirement         type  \\\n",
       "0  Usually a four-digit integer. Should not have ...   Mandatory       string   \n",
       "1            Year of recording details of the animal   Mandatory      integer   \n",
       "2  E.g. Healesville Sanctuary zoo release, Mount ...   Mandatory       string   \n",
       "3  Allowed values: male, female, hermaphrodite, u...   Mandatory  enumeration   \n",
       "4  Numeric. Allowed missing values are unknown, n...    Optional       double   \n",
       "\n",
       "   default value                                              notes  \n",
       "0            NaN                                                NaN  \n",
       "1            NaN                                                NaN  \n",
       "2            NaN                                                NaN  \n",
       "3            NaN                                                NaN  \n",
       "4            NaN  Note: columns from weight to other_notes are i...  "
      ]
     },
     "execution_count": 55,
     "metadata": {},
     "output_type": "execute_result"
    }
   ],
   "source": [
    "special_elements.head()"
   ]
  },
  {
   "cell_type": "code",
   "execution_count": 56,
   "metadata": {
    "collapsed": false
   },
   "outputs": [
    {
     "data": {
      "text/html": [
       "<div>\n",
       "<style scoped>\n",
       "    .dataframe tbody tr th:only-of-type {\n",
       "        vertical-align: middle;\n",
       "    }\n",
       "\n",
       "    .dataframe tbody tr th {\n",
       "        vertical-align: top;\n",
       "    }\n",
       "\n",
       "    .dataframe thead th {\n",
       "        text-align: right;\n",
       "    }\n",
       "</style>\n",
       "<table border=\"1\" class=\"dataframe\">\n",
       "  <thead>\n",
       "    <tr style=\"text-align: right;\">\n",
       "      <th></th>\n",
       "      <th>element</th>\n",
       "      <th>definition</th>\n",
       "      <th>instructions</th>\n",
       "      <th>requirement</th>\n",
       "      <th>type</th>\n",
       "      <th>default value</th>\n",
       "      <th>notes</th>\n",
       "    </tr>\n",
       "  </thead>\n",
       "  <tbody>\n",
       "    <tr>\n",
       "      <th>0</th>\n",
       "      <td>index</td>\n",
       "      <td>Unique identifier. Necessary due to assays bei...</td>\n",
       "      <td>Integer in spreadsheet. Incrementally increase...</td>\n",
       "      <td>Mandatory</td>\n",
       "      <td>integer</td>\n",
       "      <td>NaN</td>\n",
       "      <td>NaN</td>\n",
       "    </tr>\n",
       "    <tr>\n",
       "      <th>1</th>\n",
       "      <td>id</td>\n",
       "      <td>ID number on animal's ear tag</td>\n",
       "      <td>Usually a four-digit integer. Should not have ...</td>\n",
       "      <td>Mandatory</td>\n",
       "      <td>string</td>\n",
       "      <td>NaN</td>\n",
       "      <td>NaN</td>\n",
       "    </tr>\n",
       "    <tr>\n",
       "      <th>2</th>\n",
       "      <td>BP1_FAM_allele1</td>\n",
       "      <td>Size (in base pairs) of the shorter allele obs...</td>\n",
       "      <td>Integer with field left blank for missing valu...</td>\n",
       "      <td>Optional</td>\n",
       "      <td>integer</td>\n",
       "      <td>NaN</td>\n",
       "      <td>NaN</td>\n",
       "    </tr>\n",
       "    <tr>\n",
       "      <th>3</th>\n",
       "      <td>BP1_FAM_allele2</td>\n",
       "      <td>Size (in base pairs) of the longer allele obse...</td>\n",
       "      <td>Integer with field left blank for missing valu...</td>\n",
       "      <td>Optional</td>\n",
       "      <td>integer</td>\n",
       "      <td>NaN</td>\n",
       "      <td>NaN</td>\n",
       "    </tr>\n",
       "    <tr>\n",
       "      <th>4</th>\n",
       "      <td>BP2_FAM_allele1</td>\n",
       "      <td>Size (in base pairs) of the shorter allele obs...</td>\n",
       "      <td>Integer with field left blank for missing valu...</td>\n",
       "      <td>Optional</td>\n",
       "      <td>integer</td>\n",
       "      <td>NaN</td>\n",
       "      <td>NaN</td>\n",
       "    </tr>\n",
       "  </tbody>\n",
       "</table>\n",
       "</div>"
      ],
      "text/plain": [
       "           element                                         definition  \\\n",
       "0            index  Unique identifier. Necessary due to assays bei...   \n",
       "1               id                      ID number on animal's ear tag   \n",
       "2  BP1_FAM_allele1  Size (in base pairs) of the shorter allele obs...   \n",
       "3  BP1_FAM_allele2  Size (in base pairs) of the longer allele obse...   \n",
       "4  BP2_FAM_allele1  Size (in base pairs) of the shorter allele obs...   \n",
       "\n",
       "                                        instructions requirement     type  \\\n",
       "0  Integer in spreadsheet. Incrementally increase...   Mandatory  integer   \n",
       "1  Usually a four-digit integer. Should not have ...   Mandatory   string   \n",
       "2  Integer with field left blank for missing valu...    Optional  integer   \n",
       "3  Integer with field left blank for missing valu...    Optional  integer   \n",
       "4  Integer with field left blank for missing valu...    Optional  integer   \n",
       "\n",
       "   default value  notes  \n",
       "0            NaN    NaN  \n",
       "1            NaN    NaN  \n",
       "2            NaN    NaN  \n",
       "3            NaN    NaN  \n",
       "4            NaN    NaN  "
      ]
     },
     "execution_count": 56,
     "metadata": {},
     "output_type": "execute_result"
    }
   ],
   "source": [
    "microsat_elements.head()"
   ]
  },
  {
   "cell_type": "code",
   "execution_count": 57,
   "metadata": {
    "collapsed": false
   },
   "outputs": [
    {
     "name": "stdout",
     "output_type": "stream",
     "text": [
      "True\n",
      "True\n",
      "True\n",
      "True\n"
     ]
    }
   ],
   "source": [
    "# Check order of metadata definitions is the same as the data columns\n",
    "print list(general_elements[\"element\"]) == list(general_data.columns)\n",
    "print list(capture_elements[\"element\"]) == list(capture_data.columns)\n",
    "print list(special_elements[\"element\"]) == list(special_data.columns)\n",
    "print list(microsat_elements[\"element\"]) == list(microsat_data.columns)"
   ]
  },
  {
   "cell_type": "code",
   "execution_count": 58,
   "metadata": {
    "collapsed": true
   },
   "outputs": [],
   "source": [
    "general_elements_dict = general_elements.transpose().to_dict()\n",
    "capture_elements_dict = capture_elements.transpose().to_dict()\n",
    "special_elements_dict = special_elements.transpose().to_dict()\n",
    "microsat_elements_dict = microsat_elements.transpose().to_dict()"
   ]
  },
  {
   "cell_type": "code",
   "execution_count": 59,
   "metadata": {
    "collapsed": true
   },
   "outputs": [],
   "source": [
    "def get_enumeration_elements(metadata_dict):\n",
    "    enumeration_values = []\n",
    "    for e in metadata_dict:\n",
    "        if metadata_dict[e][\"type\"] == \"enumeration\":\n",
    "            element_name = metadata_dict[e][\"element\"]\n",
    "            enumeration_values.append(element_name)\n",
    "    return enumeration_values"
   ]
  },
  {
   "cell_type": "code",
   "execution_count": 60,
   "metadata": {
    "collapsed": true
   },
   "outputs": [],
   "source": [
    "enumeration_elements = \\\n",
    "    get_enumeration_elements(metadata_dict=general_elements_dict) + \\\n",
    "    get_enumeration_elements(metadata_dict=capture_elements_dict) + \\\n",
    "    get_enumeration_elements(metadata_dict=special_elements_dict) + \\\n",
    "    get_enumeration_elements(metadata_dict=microsat_elements_dict)\n",
    "enumeration_elements = list(set(enumeration_elements))"
   ]
  },
  {
   "cell_type": "code",
   "execution_count": 61,
   "metadata": {
    "collapsed": true
   },
   "outputs": [],
   "source": [
    "all_data = [general_data, capture_data, special_data, microsat_data]"
   ]
  },
  {
   "cell_type": "code",
   "execution_count": 62,
   "metadata": {
    "collapsed": false
   },
   "outputs": [
    {
     "name": "stdout",
     "output_type": "stream",
     "text": [
      "life_stage ['adult', 'immature adult', 'juvenile']\n",
      "sex ['female', 'male', 'not determined']\n",
      "wild_captive ['captive', 'wild']\n",
      "lactation_status ['advanced post lactating', 'lactating', 'not lactating', 'post lactating']\n",
      "pregnancy_status ['likely not pregnant', 'likely pregnant', 'not pregnant', 'pregnant']\n",
      "number_of_pouch_young ['0', '1', '2', '3', '4', 'undetermined']\n"
     ]
    }
   ],
   "source": [
    "enumeration_dict = {}\n",
    "for e in enumeration_elements:\n",
    "    possible_values = []\n",
    "    for df in all_data:\n",
    "        if e in df.columns:\n",
    "            possible_values += list(set(list(df[e])))\n",
    "    # Remove NaN values\n",
    "    possible_values = [x for x in possible_values if type(x) == str or not pd.np.isnan(x)]\n",
    "    # Convert floats to integers to strings\n",
    "    possible_values = [str(int(x)) if type(x) == float else x for x in possible_values]\n",
    "    possible_values = list(set(possible_values))\n",
    "    possible_values.sort()\n",
    "    enumeration_dict[e] = possible_values\n",
    "    print e, possible_values"
   ]
  },
  {
   "cell_type": "code",
   "execution_count": 63,
   "metadata": {
    "collapsed": true
   },
   "outputs": [],
   "source": [
    "# Manually re-order values\n",
    "enumeration_dict = {\n",
    "    'lactation_status': ['not lactating', 'lactating', 'post lactating', 'advanced post lactating'],\n",
    "    'life_stage': ['adult', 'immature adult', 'juvenile'],\n",
    "    'number_of_pouch_young': ['0', '1', '2', '3', '4', 'undetermined'],\n",
    "    'pregnancy_status': ['not pregnant', 'likely not pregnant', 'likely pregnant', 'pregnant'],\n",
    "    'sex': ['female', 'male', 'hermaphrodite', 'not determined'],\n",
    "    'wild_captive': ['captive', 'wild']\n",
    "}"
   ]
  },
  {
   "cell_type": "code",
   "execution_count": 64,
   "metadata": {
    "collapsed": true
   },
   "outputs": [],
   "source": [
    "# Need to change date format from YYYY-MM-DD to DD-MM-YYY\n",
    "def flip_date(date):\n",
    "    match = re.match(\"(\\d{4})-(\\d{2})-(\\d{2})\", date).groups()\n",
    "    # new_format = \"{}-{}-{}\".format(match[2], match[1], match[0])\n",
    "    new_format = datetime.date(int(match[0]),int(match[1]),int(match[2])).strftime(\"%d-%b-%Y\")\n",
    "    return new_format\n",
    "\n",
    "capture_data.date = [flip_date(x) for x in capture_data.date]"
   ]
  },
  {
   "cell_type": "code",
   "execution_count": 65,
   "metadata": {
    "collapsed": false
   },
   "outputs": [
    {
     "data": {
      "text/plain": [
       "0    28-Oct-2002\n",
       "1    06-Nov-2010\n",
       "2    07-Nov-2010\n",
       "3    08-Nov-2010\n",
       "4    09-Nov-2010\n",
       "Name: date, dtype: object"
      ]
     },
     "execution_count": 65,
     "metadata": {},
     "output_type": "execute_result"
    }
   ],
   "source": [
    "capture_data.date.head()"
   ]
  },
  {
   "cell_type": "code",
   "execution_count": 66,
   "metadata": {
    "collapsed": true
   },
   "outputs": [],
   "source": [
    "# Change number_of_pouch_young to string in special_data\n",
    "special_data.number_of_pouch_young = [str(int(x)) if not pd.np.isnan(x) else x \n",
    "                                      for x in special_data.number_of_pouch_young]"
   ]
  },
  {
   "cell_type": "code",
   "execution_count": 67,
   "metadata": {
    "collapsed": false
   },
   "outputs": [],
   "source": [
    "# Change microsat data from float to string\n",
    "microsat_columns = [x for x in microsat_data.columns if re.search(\"allele\\d$\", x)]\n",
    "\n",
    "for col in microsat_columns:\n",
    "    # print col,\n",
    "    microsat_data[[col]] = [str(int(x)) if not pd.np.isnan(x) else x for x in microsat_data[col]]"
   ]
  },
  {
   "cell_type": "code",
   "execution_count": 68,
   "metadata": {
    "collapsed": false
   },
   "outputs": [
    {
     "data": {
      "text/html": [
       "<div>\n",
       "<style scoped>\n",
       "    .dataframe tbody tr th:only-of-type {\n",
       "        vertical-align: middle;\n",
       "    }\n",
       "\n",
       "    .dataframe tbody tr th {\n",
       "        vertical-align: top;\n",
       "    }\n",
       "\n",
       "    .dataframe thead th {\n",
       "        text-align: right;\n",
       "    }\n",
       "</style>\n",
       "<table border=\"1\" class=\"dataframe\">\n",
       "  <thead>\n",
       "    <tr style=\"text-align: right;\">\n",
       "      <th></th>\n",
       "      <th>index</th>\n",
       "      <th>id</th>\n",
       "      <th>BP1_FAM_allele1</th>\n",
       "      <th>BP1_FAM_allele2</th>\n",
       "      <th>BP2_FAM_allele1</th>\n",
       "      <th>BP2_FAM_allele2</th>\n",
       "      <th>BP3_NED_allele1</th>\n",
       "      <th>BP3_NED_allele2</th>\n",
       "      <th>BP11_FAM_allele1</th>\n",
       "      <th>BP11_FAM_allele2</th>\n",
       "      <th>...</th>\n",
       "      <th>BC29_NED_allele1</th>\n",
       "      <th>BC29_NED_allele2</th>\n",
       "      <th>BC32_PET_allele1</th>\n",
       "      <th>BC32_PET_allele2</th>\n",
       "      <th>BC34_PET_allele1</th>\n",
       "      <th>BC34_PET_allele2</th>\n",
       "      <th>BC35_PET_allele1</th>\n",
       "      <th>BC35_PET_allele2</th>\n",
       "      <th>BC36_PET_allele1</th>\n",
       "      <th>BC36_PET_allele2</th>\n",
       "    </tr>\n",
       "  </thead>\n",
       "  <tbody>\n",
       "    <tr>\n",
       "      <th>0</th>\n",
       "      <td>1</td>\n",
       "      <td>0034</td>\n",
       "      <td>311</td>\n",
       "      <td>311</td>\n",
       "      <td>249</td>\n",
       "      <td>253</td>\n",
       "      <td>297</td>\n",
       "      <td>318</td>\n",
       "      <td>195</td>\n",
       "      <td>203</td>\n",
       "      <td>...</td>\n",
       "      <td>114</td>\n",
       "      <td>117</td>\n",
       "      <td>0</td>\n",
       "      <td>0</td>\n",
       "      <td>0</td>\n",
       "      <td>0</td>\n",
       "      <td>0</td>\n",
       "      <td>0</td>\n",
       "      <td>177</td>\n",
       "      <td>183</td>\n",
       "    </tr>\n",
       "    <tr>\n",
       "      <th>1</th>\n",
       "      <td>2</td>\n",
       "      <td>0067</td>\n",
       "      <td>311</td>\n",
       "      <td>311</td>\n",
       "      <td>253</td>\n",
       "      <td>253</td>\n",
       "      <td>0</td>\n",
       "      <td>0</td>\n",
       "      <td>199</td>\n",
       "      <td>201</td>\n",
       "      <td>...</td>\n",
       "      <td>116</td>\n",
       "      <td>116</td>\n",
       "      <td>137</td>\n",
       "      <td>137</td>\n",
       "      <td>137</td>\n",
       "      <td>137</td>\n",
       "      <td>0</td>\n",
       "      <td>0</td>\n",
       "      <td>177</td>\n",
       "      <td>179</td>\n",
       "    </tr>\n",
       "    <tr>\n",
       "      <th>2</th>\n",
       "      <td>3</td>\n",
       "      <td>0102</td>\n",
       "      <td>311</td>\n",
       "      <td>311</td>\n",
       "      <td>251</td>\n",
       "      <td>253</td>\n",
       "      <td>0</td>\n",
       "      <td>0</td>\n",
       "      <td>191</td>\n",
       "      <td>199</td>\n",
       "      <td>...</td>\n",
       "      <td>116</td>\n",
       "      <td>116</td>\n",
       "      <td>137</td>\n",
       "      <td>137</td>\n",
       "      <td>131</td>\n",
       "      <td>131</td>\n",
       "      <td>0</td>\n",
       "      <td>0</td>\n",
       "      <td>179</td>\n",
       "      <td>183</td>\n",
       "    </tr>\n",
       "    <tr>\n",
       "      <th>3</th>\n",
       "      <td>4</td>\n",
       "      <td>0202</td>\n",
       "      <td>0</td>\n",
       "      <td>0</td>\n",
       "      <td>0</td>\n",
       "      <td>0</td>\n",
       "      <td>303</td>\n",
       "      <td>303</td>\n",
       "      <td>195</td>\n",
       "      <td>195</td>\n",
       "      <td>...</td>\n",
       "      <td>117</td>\n",
       "      <td>117</td>\n",
       "      <td>141</td>\n",
       "      <td>141</td>\n",
       "      <td>137</td>\n",
       "      <td>137</td>\n",
       "      <td>NaN</td>\n",
       "      <td>NaN</td>\n",
       "      <td>177</td>\n",
       "      <td>177</td>\n",
       "    </tr>\n",
       "    <tr>\n",
       "      <th>4</th>\n",
       "      <td>5</td>\n",
       "      <td>0202</td>\n",
       "      <td>311</td>\n",
       "      <td>311</td>\n",
       "      <td>245</td>\n",
       "      <td>245</td>\n",
       "      <td>303</td>\n",
       "      <td>303</td>\n",
       "      <td>195</td>\n",
       "      <td>195</td>\n",
       "      <td>...</td>\n",
       "      <td>126</td>\n",
       "      <td>126</td>\n",
       "      <td>141</td>\n",
       "      <td>141</td>\n",
       "      <td>137</td>\n",
       "      <td>137</td>\n",
       "      <td>157</td>\n",
       "      <td>157</td>\n",
       "      <td>177</td>\n",
       "      <td>177</td>\n",
       "    </tr>\n",
       "  </tbody>\n",
       "</table>\n",
       "<p>5 rows × 50 columns</p>\n",
       "</div>"
      ],
      "text/plain": [
       "   index    id BP1_FAM_allele1 BP1_FAM_allele2 BP2_FAM_allele1  \\\n",
       "0      1  0034             311             311             249   \n",
       "1      2  0067             311             311             253   \n",
       "2      3  0102             311             311             251   \n",
       "3      4  0202               0               0               0   \n",
       "4      5  0202             311             311             245   \n",
       "\n",
       "  BP2_FAM_allele2 BP3_NED_allele1 BP3_NED_allele2 BP11_FAM_allele1  \\\n",
       "0             253             297             318              195   \n",
       "1             253               0               0              199   \n",
       "2             253               0               0              191   \n",
       "3               0             303             303              195   \n",
       "4             245             303             303              195   \n",
       "\n",
       "  BP11_FAM_allele2       ...        BC29_NED_allele1 BC29_NED_allele2  \\\n",
       "0              203       ...                     114              117   \n",
       "1              201       ...                     116              116   \n",
       "2              199       ...                     116              116   \n",
       "3              195       ...                     117              117   \n",
       "4              195       ...                     126              126   \n",
       "\n",
       "  BC32_PET_allele1 BC32_PET_allele2 BC34_PET_allele1 BC34_PET_allele2  \\\n",
       "0                0                0                0                0   \n",
       "1              137              137              137              137   \n",
       "2              137              137              131              131   \n",
       "3              141              141              137              137   \n",
       "4              141              141              137              137   \n",
       "\n",
       "  BC35_PET_allele1 BC35_PET_allele2 BC36_PET_allele1 BC36_PET_allele2  \n",
       "0                0                0              177              183  \n",
       "1                0                0              177              179  \n",
       "2                0                0              179              183  \n",
       "3              NaN              NaN              177              177  \n",
       "4              157              157              177              177  \n",
       "\n",
       "[5 rows x 50 columns]"
      ]
     },
     "execution_count": 68,
     "metadata": {},
     "output_type": "execute_result"
    }
   ],
   "source": [
    "microsat_data.head()"
   ]
  },
  {
   "cell_type": "markdown",
   "metadata": {},
   "source": [
    "-----\n",
    "\n",
    "## Create metadata definitions\n",
    "\n",
    "Four metadata definition documents:\n",
    " - general\n",
    " - capture\n",
    " - special\n",
    " - microsat"
   ]
  },
  {
   "cell_type": "code",
   "execution_count": null,
   "metadata": {
    "collapsed": true
   },
   "outputs": [],
   "source": [
    "# # Example of enumeration syntax: proj-marsupial_genomics-1128.4.19:test\n",
    "# args = mfclient.XmlStringWriter(\"args\")\n",
    "# args.add(\"type\", \"proj-marsupial_genomics-1128.4.19:test\")\n",
    "# result = con.execute(\"asset.doc.type.describe\", args.doc_text())"
   ]
  },
  {
   "cell_type": "code",
   "execution_count": null,
   "metadata": {
    "collapsed": true
   },
   "outputs": [],
   "source": [
    "# print result"
   ]
  },
  {
   "cell_type": "code",
   "execution_count": null,
   "metadata": {
    "collapsed": true
   },
   "outputs": [],
   "source": [
    "# <element max-occurs=\"1\" name=\"enum\" type=\"enumeration\">\n",
    "#   <restriction base=\"enumeration\">\n",
    "#     <value>val1</value>\n",
    "#     <value>val2</value>\n",
    "#     <value>val3</value>\n",
    "#   </restriction>\n",
    "#   <value as=\"default\">val1</value>\n",
    "# </element>"
   ]
  },
  {
   "cell_type": "code",
   "execution_count": 69,
   "metadata": {
    "collapsed": true
   },
   "outputs": [],
   "source": [
    "def add_elements(args, metadata_dict):\n",
    "    args.push(\"definition\")\n",
    "    for index in metadata_dict:\n",
    "        # print index\n",
    "        if metadata_dict[index][\"requirement\"] == \"Optional\":\n",
    "            min_occurs = 0\n",
    "        else:\n",
    "            min_occurs = 1\n",
    "        attr = {\"name\": metadata_dict[index][\"element\"],\n",
    "                \"max-occurs\": 1,\n",
    "                \"min-occurs\": min_occurs,\n",
    "                \"type\": metadata_dict[index][\"type\"]}\n",
    "        args.push(\"element\", attributes=attr)\n",
    "        args.add(\"description\", metadata_dict[index][\"definition\"])\n",
    "        args.add(\"instructions\", metadata_dict[index][\"instructions\"])\n",
    "        if metadata_dict[index][\"type\"] == \"enumeration\":\n",
    "            args.push(\"restriction\", attributes={\"base\": \"enumeration\"})\n",
    "            for val in enumeration_dict[metadata_dict[index][\"element\"]]:\n",
    "                args.add(\"value\", val)\n",
    "            args.pop() # end restriction\n",
    "        if str(metadata_dict[index][\"default value\"]) != \"nan\":\n",
    "            args.add(\"value\", metadata_dict[index][\"default value\"], attributes={\"as\": \"default\"})\n",
    "        args.pop() # end element\n",
    "    args.pop() # end definition\n",
    "    return args"
   ]
  },
  {
   "cell_type": "markdown",
   "metadata": {},
   "source": [
    "#### General document"
   ]
  },
  {
   "cell_type": "code",
   "execution_count": 81,
   "metadata": {
    "collapsed": true
   },
   "outputs": [],
   "source": [
    "project_namespace = \"proj-marsupial_genomics-1128.4.19\"\n",
    "document_name = \"mpp_general\"\n",
    "\n",
    "args = mfclient.XmlStringWriter(\"args\")\n",
    "args.add(\"type\", \"{}:{}\".format(project_namespace, document_name))\n",
    "args.add(\"label\", \"{}:{}\".format(project_namespace, document_name))\n",
    "args.add(\"description\", \"General possum information\")\n",
    "args.add(\"instructions\", \n",
    "         \"This metadata document holds the general information of a possum. \" \\\n",
    "         \"There should be one mmp_general document for each possum.\")\n",
    "\n",
    "# Metadata definitions\n",
    "args = add_elements(args=args, metadata_dict=general_elements_dict)"
   ]
  },
  {
   "cell_type": "code",
   "execution_count": 82,
   "metadata": {
    "collapsed": true
   },
   "outputs": [],
   "source": [
    "# args.doc_text()"
   ]
  },
  {
   "cell_type": "code",
   "execution_count": 83,
   "metadata": {
    "collapsed": false
   },
   "outputs": [],
   "source": [
    "logging.info(\"Creating metadata document: {}:{}\".format(project_namespace, document_name))\n",
    "result = con.execute(\"asset.doc.type.create\", args.doc_text())\n",
    "logging.info(result)"
   ]
  },
  {
   "cell_type": "markdown",
   "metadata": {},
   "source": [
    "#### Capture document"
   ]
  },
  {
   "cell_type": "code",
   "execution_count": 84,
   "metadata": {
    "collapsed": true
   },
   "outputs": [],
   "source": [
    "project_namespace = \"proj-marsupial_genomics-1128.4.19\"\n",
    "document_name = \"mpp_capture\"\n",
    "\n",
    "args = mfclient.XmlStringWriter(\"args\")\n",
    "args.add(\"type\", \"{}:{}\".format(project_namespace, document_name))\n",
    "args.add(\"label\", \"{}:{}\".format(project_namespace, document_name))\n",
    "args.add(\"description\", \"Capture record information\")\n",
    "args.add(\"instructions\", \n",
    "         \"This metadata document holds a capture record of a possum. \" \\\n",
    "         \"There can be many mpp_capture documents attached to each possum \" \\\n",
    "         \"(one for each instance of capture).\")\n",
    "\n",
    "# Metadata definitions\n",
    "args = add_elements(args=args, metadata_dict=capture_elements_dict)\n",
    "\n",
    "# Submit\n",
    "logging.info(\"Creating metadata document: {}:{}\".format(project_namespace, document_name))\n",
    "result = con.execute(\"asset.doc.type.create\", args.doc_text())\n",
    "logging.info(result)"
   ]
  },
  {
   "cell_type": "markdown",
   "metadata": {},
   "source": [
    "#### Special document"
   ]
  },
  {
   "cell_type": "code",
   "execution_count": 85,
   "metadata": {
    "collapsed": true
   },
   "outputs": [],
   "source": [
    "project_namespace = \"proj-marsupial_genomics-1128.4.19\"\n",
    "document_name = \"mpp_special\"\n",
    "\n",
    "args = mfclient.XmlStringWriter(\"args\")\n",
    "args.add(\"type\", \"{}:{}\".format(project_namespace, document_name))\n",
    "args.add(\"label\", \"{}:{}\".format(project_namespace, document_name))\n",
    "args.add(\"description\", \"Special possum information\")\n",
    "args.add(\"instructions\", \n",
    "         \"This metadata document holds records of possums which are non-capture \" \\\n",
    "         \"records. ID number. These possums are either Zoo releases from \" \\\n",
    "         \"Healesville Sanctuary, males from Hotham, or males from Timms Spur.\")\n",
    "\n",
    "# Metadata definitions\n",
    "args = add_elements(args=args, metadata_dict=special_elements_dict)\n",
    "\n",
    "# Submit\n",
    "logging.info(\"Creating metadata document: {}:{}\".format(project_namespace, document_name))\n",
    "result = con.execute(\"asset.doc.type.create\", args.doc_text())\n",
    "logging.info(result)"
   ]
  },
  {
   "cell_type": "markdown",
   "metadata": {},
   "source": [
    "#### Microsat document"
   ]
  },
  {
   "cell_type": "code",
   "execution_count": 86,
   "metadata": {
    "collapsed": true
   },
   "outputs": [],
   "source": [
    "project_namespace = \"proj-marsupial_genomics-1128.4.19\"\n",
    "document_name = \"mpp_microsat\"\n",
    "\n",
    "args = mfclient.XmlStringWriter(\"args\")\n",
    "args.add(\"type\", \"{}:{}\".format(project_namespace, document_name))\n",
    "args.add(\"label\", \"{}:{}\".format(project_namespace, document_name))\n",
    "args.add(\"description\", \"Microsatellite information\")\n",
    "args.add(\"instructions\", \n",
    "         \"This metadata document holds information of microsatellite markers \" \\\n",
    "         \"for a particular possum. There is usually zero or one documents \" \\\n",
    "         \"attached to a possum, but there may be multiple instances if a \" \\\n",
    "         \"possum was genotyped multiple times.\")\n",
    "\n",
    "# Metadata definitions\n",
    "args = add_elements(args=args, metadata_dict=microsat_elements_dict)\n",
    "\n",
    "# Submit\n",
    "logging.info(\"Creating metadata document: {}:{}\".format(project_namespace, document_name))\n",
    "result = con.execute(\"asset.doc.type.create\", args.doc_text())\n",
    "logging.info(result)"
   ]
  },
  {
   "cell_type": "markdown",
   "metadata": {},
   "source": [
    "-----\n",
    "\n",
    "## Populate metadata\n",
    "\n",
    "Set metadata for each line in the dataframe"
   ]
  },
  {
   "cell_type": "code",
   "execution_count": 87,
   "metadata": {
    "collapsed": true
   },
   "outputs": [],
   "source": [
    "# Get asset IDs of samples and store in dict\n",
    "asset_directory = \"/projects/proj-marsupial_genomics-1128.4.19/Burramys/Possums\"\n",
    "\n",
    "args = mfclient.XmlStringWriter(\"args\")\n",
    "args.add(\"where\", \"namespace={}\".format(asset_directory))\n",
    "args.add(\"action\", \"get-path\")\n",
    "args.add(\"size\", \"infinity\")\n",
    "result = con.execute(\"asset.query\", args.doc_text())"
   ]
  },
  {
   "cell_type": "code",
   "execution_count": 88,
   "metadata": {
    "collapsed": true
   },
   "outputs": [],
   "source": [
    "# Create lookup table for sample id -> asset id\n",
    "sample_id_asset_id_lookup = {}\n",
    "for path_element in result.elements(\"path\"):\n",
    "    asset_id = path_element.value(\"@id\")\n",
    "    sample_id = os.path.basename(path_element.value())\n",
    "    sample_id_asset_id_lookup[sample_id] = asset_id"
   ]
  },
  {
   "cell_type": "code",
   "execution_count": 89,
   "metadata": {
    "collapsed": true
   },
   "outputs": [],
   "source": [
    "def set_metadata(asset_id, project_namespace, document_name, data_dict,\n",
    "                 row, action=\"merge\"):\n",
    "    # action: add|merge|remove|replace\n",
    "    args = mfclient.XmlStringWriter(\"args\")\n",
    "    args.add(\"id\", asset_id)\n",
    "    args.push(\"meta\", attributes={\"action\": action})\n",
    "    args.push(\"{}:{}\".format(project_namespace, document_name))\n",
    "    for key, value in data_dict[row].items():\n",
    "        if str(value) != \"nan\":\n",
    "            args.add(key, value)\n",
    "    args.pop() # end namespace:metadata_document\n",
    "    args.pop() # end meta\n",
    "    logging.info(\"Setting metadata for asset id \" + asset_id)\n",
    "    result = con.execute(\"asset.set\", args.doc_text())\n",
    "#     print args.doc_text()"
   ]
  },
  {
   "cell_type": "markdown",
   "metadata": {},
   "source": [
    "#### General data"
   ]
  },
  {
   "cell_type": "code",
   "execution_count": 98,
   "metadata": {
    "collapsed": true
   },
   "outputs": [],
   "source": [
    "project_namespace = \"proj-marsupial_genomics-1128.4.19\"\n",
    "document_name = \"mpp_general\"\n",
    "data = general_data\n",
    "data_dict = data.transpose().to_dict()"
   ]
  },
  {
   "cell_type": "code",
   "execution_count": 97,
   "metadata": {
    "collapsed": false,
    "scrolled": true
   },
   "outputs": [],
   "source": [
    "for row in data_dict:\n",
    "    possum_id = data_dict[row][\"id\"]\n",
    "    try:\n",
    "        asset_id = sample_id_asset_id_lookup[possum_id]\n",
    "        set_metadata(asset_id=asset_id, project_namespace=project_namespace,\n",
    "                    document_name=document_name, data_dict=data_dict, row=row,\n",
    "                    action=\"merge\")\n",
    "    except:\n",
    "        logging.info(\"Skipping \" + possum_id)\n",
    "    time.sleep(0.5)"
   ]
  },
  {
   "cell_type": "markdown",
   "metadata": {},
   "source": [
    "#### Capture data"
   ]
  },
  {
   "cell_type": "code",
   "execution_count": 100,
   "metadata": {
    "collapsed": true
   },
   "outputs": [],
   "source": [
    "project_namespace = \"proj-marsupial_genomics-1128.4.19\"\n",
    "document_name = \"mpp_capture\"\n",
    "data = capture_data\n",
    "data_dict = data.transpose().to_dict()"
   ]
  },
  {
   "cell_type": "code",
   "execution_count": 101,
   "metadata": {
    "collapsed": true,
    "scrolled": true
   },
   "outputs": [],
   "source": [
    "for row in data_dict:\n",
    "    possum_id = data_dict[row][\"id\"]\n",
    "    try:\n",
    "        asset_id = sample_id_asset_id_lookup[possum_id]\n",
    "        set_metadata(asset_id=asset_id, project_namespace=project_namespace,\n",
    "                    document_name=document_name, data_dict=data_dict, row=row,\n",
    "                    action=\"add\")\n",
    "    except:\n",
    "        logging.info(\"Skipping \" + possum_id)\n",
    "    time.sleep(0.5)"
   ]
  },
  {
   "cell_type": "markdown",
   "metadata": {},
   "source": [
    "#### Special data"
   ]
  },
  {
   "cell_type": "code",
   "execution_count": 102,
   "metadata": {
    "collapsed": true
   },
   "outputs": [],
   "source": [
    "project_namespace = \"proj-marsupial_genomics-1128.4.19\"\n",
    "document_name = \"mpp_special\"\n",
    "data = special_data\n",
    "data_dict = data.transpose().to_dict()"
   ]
  },
  {
   "cell_type": "code",
   "execution_count": 103,
   "metadata": {
    "collapsed": true
   },
   "outputs": [],
   "source": [
    "for row in data_dict:\n",
    "    possum_id = data_dict[row][\"id\"]\n",
    "    try:\n",
    "        asset_id = sample_id_asset_id_lookup[possum_id]\n",
    "        set_metadata(asset_id=asset_id, project_namespace=project_namespace,\n",
    "                    document_name=document_name, data_dict=data_dict, row=row,\n",
    "                    action=\"merge\")\n",
    "    except:\n",
    "        logging.info(\"Skipping \" + possum_id)\n",
    "    time.sleep(0.5)"
   ]
  },
  {
   "cell_type": "markdown",
   "metadata": {},
   "source": [
    "#### Microsat metadata"
   ]
  },
  {
   "cell_type": "code",
   "execution_count": 104,
   "metadata": {
    "collapsed": true
   },
   "outputs": [],
   "source": [
    "project_namespace = \"proj-marsupial_genomics-1128.4.19\"\n",
    "document_name = \"mpp_microsat\"\n",
    "data = microsat_data\n",
    "data_dict = data.transpose().to_dict()"
   ]
  },
  {
   "cell_type": "code",
   "execution_count": 107,
   "metadata": {
    "collapsed": false
   },
   "outputs": [],
   "source": [
    "for row in data_dict:\n",
    "    possum_id = data_dict[row][\"id\"]\n",
    "    try:\n",
    "        asset_id = sample_id_asset_id_lookup[possum_id]\n",
    "        set_metadata(asset_id=asset_id, project_namespace=project_namespace,\n",
    "                    document_name=document_name, data_dict=data_dict, row=row,\n",
    "                    action=\"add\")\n",
    "    except:\n",
    "        logging.info(\"Skipping \" + possum_id)\n",
    "    time.sleep(0.5)"
   ]
  },
  {
   "cell_type": "markdown",
   "metadata": {
    "collapsed": true
   },
   "source": [
    "-----\n",
    "\n",
    "## Close connection to Mediaflux"
   ]
  },
  {
   "cell_type": "code",
   "execution_count": 108,
   "metadata": {
    "collapsed": true
   },
   "outputs": [],
   "source": [
    "logging.info(\"Closing connection to mediaflux.\")\n",
    "con.close()"
   ]
  },
  {
   "cell_type": "code",
   "execution_count": null,
   "metadata": {
    "collapsed": true
   },
   "outputs": [],
   "source": []
  }
 ],
 "metadata": {
  "kernelspec": {
   "display_name": "Python 2",
   "language": "python",
   "name": "python2"
  },
  "language_info": {
   "codemirror_mode": {
    "name": "ipython",
    "version": 2
   },
   "file_extension": ".py",
   "mimetype": "text/x-python",
   "name": "python",
   "nbconvert_exporter": "python",
   "pygments_lexer": "ipython2",
   "version": "2.7.13"
  }
 },
 "nbformat": 4,
 "nbformat_minor": 2
}
